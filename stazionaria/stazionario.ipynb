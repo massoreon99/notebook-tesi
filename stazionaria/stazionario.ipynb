{
 "cells": [
  {
   "cell_type": "markdown",
   "id": "552564d0",
   "metadata": {},
   "source": [
    "# __Calcolo delle distribuzioni stazionarie__\n",
    "Osserviamo come viene calcolato il vettore $\\pi$ della distrubuzione stazionaria in varie librerie e <br>\n",
    "implementiamo vari metodi e confrontiamo tempi e precisione."
   ]
  },
  {
   "cell_type": "code",
   "execution_count": null,
   "id": "277a730d",
   "metadata": {},
   "outputs": [],
   "source": [
    "import generazione_catene, utility, metodi_stazionaria, complessità\n",
    "\n",
    "import matplotlib.pyplot as plt\n",
    "\n",
    "from quantecon import gth_solve\n",
    "from pydtmc import MarkovChain"
   ]
  },
  {
   "cell_type": "markdown",
   "id": "de67202f",
   "metadata": {},
   "source": [
    "## Funzioni"
   ]
  },
  {
   "cell_type": "markdown",
   "id": "feee49d5",
   "metadata": {},
   "source": [
    "### `Generazione di P`"
   ]
  },
  {
   "cell_type": "markdown",
   "id": "fb0ce901",
   "metadata": {},
   "source": [
    "#### P irriducibile\n",
    "\n",
    "> **Nota sulla generazione**: questa funzione è adatta per costruire matrici di transizione $P$ casuali, con un grado controllabile di sparsità, garantendo l'irriducibilità tramite controllo di forte connessione su $G(P)$.  \n",
    ">\n",
    "> Tuttavia, quando il numero di zeri richiesto si avvicina al massimo teorico $n(n-1)$, trovare una matrice fortemente connessa diventa sempre più difficile, e i tempi di generazione crescono drasticamente.  \n",
    "> Inoltre, anche se $P$ risulta irriducibile, un numero troppo basso di archi può portare a **periodicità**, rendendo il **Power Method inefficace**.\n",
    ">\n",
    "> In questi casi estremi è preferibile usare una generazione alternativa con struttura più controllata (es. `genera_P_k_random`), che garantisce a priori la forte connessione e, con un minimo numero di archi extra, anche l’aperiodicità."
   ]
  },
  {
   "cell_type": "code",
   "execution_count": null,
   "id": "3a7737da",
   "metadata": {},
   "outputs": [],
   "source": [
    "P = generazione_catene.genera_P_irriducibile(5,5)\n",
    "print(P)"
   ]
  },
  {
   "cell_type": "markdown",
   "id": "51786d65",
   "metadata": {},
   "source": [
    "#### P irriducibile con k archi per nodo\n",
    "\n",
    "> **Nota sulla generazione**: questo approccio garantisce la $\\textbf{forte connessione}$ della matrice $P$ per costruzione,  \n",
    "> grazie all’arco obbligato $( i \\rightarrow (i+1) \\mod n )$ che forma un ciclo completo tra tutti i nodi.  \n",
    ">\n",
    "> Aggiungendo poi \\( k-1 \\) archi casuali per riga, si rompe facilmente anche la $\\textbf{periodicità}$ del ciclo, rendendo la matrice adatta all'uso del Power Method.  \n",
    ">\n",
    "> Questo metodo è particolarmente utile quando si desidera generare matrici $\\emph{molto sparse}$, ma con garanzie strutturali.  \n",
    "> A differenza della funzione `genera_P_irriducibile`, qui non è necessario alcun controllo esplicito sulla connettività,  \n",
    "> e i tempi di generazione restano contenuti anche con pochissimi archi (es. $ k = 2 $)."
   ]
  },
  {
   "cell_type": "code",
   "execution_count": null,
   "id": "54540bf1",
   "metadata": {},
   "outputs": [],
   "source": [
    "P = generazione_catene.genera_P_k_random(5,2)\n",
    "print(P)"
   ]
  },
  {
   "cell_type": "markdown",
   "id": "73fd1e1d",
   "metadata": {},
   "source": [
    "### `Generazione di Q`"
   ]
  },
  {
   "cell_type": "markdown",
   "id": "c30fe6d6",
   "metadata": {},
   "source": [
    "#### Q irriducibile\n",
    "\n",
    "> **Nota sulla generazione**: questa funzione genera matrici generatore $Q$ **irriducibili** (fortemente connesse)  \n",
    "> a partire da una struttura sparsa con zeri distribuiti casualmente fuori diagonale.  \n",
    ">\n",
    "> L’algoritmo impone un massimo di $n(n - 2)$ zeri fuori diagonale, per garantire che sia matematicamente possibile ottenere  \n",
    "> un grafo fortemente connesso.  \n",
    ">\n",
    "> **Osservazioni:**\n",
    "> - Quando il numero di zeri si avvicina al massimo consentito, la probabilità di ottenere una $Q$ fortemente connessa si riduce drasticamente, e può essere necessario un numero elevato di tentativi.\n",
    "> - Anche se la matrice è fortemente connessa, un numero troppo basso di archi rende probabile la **periodicità** della catena. Tuttavia, nei test questa si è rivelata molto rara.\n",
    "> - Questa funzione è più robusta rispetto alla generazione di $P$ sparse: riesce a garantire connettività anche in presenza di elevata sparsità.\n",
    ">\n",
    "> Utile quando si desiderano CTMC reversibili con controllo sulla sparsità e mantenimento dell’ergodicità."
   ]
  },
  {
   "cell_type": "code",
   "execution_count": null,
   "id": "77418745",
   "metadata": {},
   "outputs": [],
   "source": [
    "Q = generazione_catene.genera_Q_irriducibile(5,5)\n",
    "print(Q)"
   ]
  },
  {
   "cell_type": "markdown",
   "id": "a0a27ed1",
   "metadata": {},
   "source": [
    "#### Q irriducibile con k archi per nodo\n",
    "\n",
    "> **Nota sulla generazione**: questa funzione costruisce matrici generatore $Q$ irriducibili,  \n",
    "> fissando per ogni riga un arco obbligato $i \\to (i+1) \\bmod n$ per garantire la connessione,  \n",
    "> e aggiungendo $k-1$ archi off-diagonali scelti a caso. I tassi sono estratti da $(0, \\texttt{tasso\\_massimo}]$,  \n",
    "> mentre la diagonale viene calcolata per ottenere righe a somma nulla, come richiesto per i generatori CTMC. <br>\n",
    "> La struttura ciclica garantisce la connettività, ma **non assicura di per sé l’aperiodicità**:  \n",
    "> tuttavia, questa non è un requisito per metodi come GTH, sistemi lineari o autovalori.  \n",
    "> Quando si usa il Power Method, invece, la matrice $Q$ viene trasformata con l’uniformizzazione  \n",
    "> $P = I + Q / B$, che introduce autoloop e rompe la periodicità, rendendo il metodo sempre applicabile."
   ]
  },
  {
   "cell_type": "code",
   "execution_count": null,
   "id": "a0f6aaab",
   "metadata": {},
   "outputs": [],
   "source": [
    "Q = generazione_catene.genera_Q_k_random(5,2)\n",
    "print(Q)"
   ]
  },
  {
   "cell_type": "markdown",
   "id": "794c0ea4",
   "metadata": {},
   "source": [
    "### `Bound per le k-iterazioni`"
   ]
  },
  {
   "cell_type": "markdown",
   "id": "41c0d155",
   "metadata": {},
   "source": [
    "Stima precisa del bound superiore sul numero di iterazioni $k$ affinché\n",
    "$$\n",
    "\\|\\pi^{(k)} - \\pi\\|_1 < \\text{tol}\n",
    "$$\n",
    "usando il bound spettrale completo derivato dalla decomposizione spettrale\n",
    "di $P^\\top$ (o della matrice uniformizzata, nel caso continuo).\n",
    "\n",
    "Il bound teorico utilizzato è:\n",
    "$$\n",
    "\\|\\pi^{(k)} - \\pi\\|_1 \\le \\sqrt{n} \\cdot \\left(\\sum_{i=2}^{n} \\left|\\frac{\\alpha_i}{\\alpha_1}\\right|^2 \\cdot \\left|\\frac{\\lambda_i}{\\lambda_1}\\right|^{2k}\\right)^{1/2}\n",
    "$$\n",
    "dove:\n",
    "- $\\lambda_i$ sono gli autovalori (in ordine di modulo decrescente),\n",
    "- $\\alpha_i$ sono i coefficienti nella decomposizione $\\pi^{(0)} = \\sum \\alpha_i v_i$ degli autovettori destri di $P^\\top$,\n",
    "- $\\pi^{(0)}$ è il vettore iniziale uniforme,\n",
    "- $n$ è la dimensione della matrice.\n",
    "\n",
    "Da cui segue che, per ottenere un errore inferiore a una data tolleranza, si cerca il minimo intero $k$ tale che:\n",
    "$[\n",
    "k \\ge \\min \\left\\{ k \\in \\mathbb{N} \\;\\middle|\\; \\sqrt{n} \\cdot \\left( \\sum_{i=2}^{n} \\left| \\frac{\\alpha_i}{\\alpha_1} \\right|^2 \\cdot \\left| \\frac{\\lambda_i}{\\lambda_1} \\right|^{2k} \\right)^{1/2} < \\text{tol} \\right\\}\n",
    "]$\n",
    "\n",
    "Questa stima non può essere risolta in forma chiusa, per questo motivo, nel nostro codice cerchiamo iterativamente <br>\n",
    "il minimo intero $k$ tale che il bound sia minore della tolleranza desiderata."
   ]
  },
  {
   "cell_type": "code",
   "execution_count": null,
   "id": "66556c9e",
   "metadata": {},
   "outputs": [],
   "source": [
    "P = generazione_catene.genera_P_irriducibile(10,80)\n",
    "k = metodi_stazionaria.solve_via_power_numpy(P)\n",
    "k_bound = utility.stima_k_necessario_precisa(P)\n",
    "\n",
    "print(k)\n",
    "print(k_bound)"
   ]
  },
  {
   "cell_type": "markdown",
   "id": "f3633c93",
   "metadata": {},
   "source": [
    "## Quantecon"
   ]
  },
  {
   "cell_type": "markdown",
   "id": "318db31d",
   "metadata": {},
   "source": [
    "### Quantecon usa `gth_solve()` che implementa l'algoritmo GTH.\n",
    "\n",
    "`gth_solve()` accetta matrici `P` o `Q`, cioè che siano di tipo **Metzler**,  \n",
    "ovvero con **elementi off-diagonali non negativi**.\n",
    "\n",
    "Effettua una **copia** della matrice di input in `A`,  \n",
    "che viene modificata **in-place** per calcolare una **fattorizzazione numericamente stabile**,  \n",
    "**senza uso di pivot**.\n",
    "\n",
    "Ad ogni passo `k`:\n",
    "- calcola la **scala** come somma degli elementi a destra del pivot nella riga `k`\n",
    "- **normalizza la colonna `k` sotto la diagonale** dividendo per questa scala\n",
    "- **manipola la sottomatrice in basso a destra** aggiornando ogni elemento secondo:\n",
    "$A[i,j] += A[i,k] * A[k,j]$   per $i > k, j > k$ <br>\n",
    "\n",
    "---\n",
    "\n",
    "Per calcolare il vettore stazionario $\\pi$,  \n",
    "la backward substitution parte da `π[n-1] = 1` e risale:\n",
    "$π[k] = ∑ A[i,k] * π[i]$   per $i = k+1 … n-1$ <br>\n",
    "\n",
    "Ovvero, per ogni `π[k]`, si usano **gli elementi nella colonna `k` sotto la diagonale**,  \n",
    "e per ciascuno di essi (posizione `A[i, k]`), si **moltiplica per il valore `π[i]` già calcolato**,  \n",
    "dove `i` è proprio l’indice di riga di quell’elemento.\n",
    "\n",
    "Si sommano tutti questi prodotti per ottenere `π[k]`.\n",
    "\n",
    "Alla fine, `π` viene normalizzato: `π /= π.sum()`."
   ]
  },
  {
   "cell_type": "markdown",
   "id": "93783a70",
   "metadata": {},
   "source": [
    "### Confronto su matrice stocastica P con gth_solve usata in `Quantecon` e la nostra implementazione"
   ]
  },
  {
   "cell_type": "code",
   "execution_count": null,
   "id": "754d089b",
   "metadata": {},
   "outputs": [],
   "source": [
    "P = generazione_catene.genera_P_k_random(5, 2)\n",
    "\n",
    "pi_builtin = gth_solve(P)\n",
    "pi_manual = metodi_stazionaria.my_gth_solve(P)\n",
    "\n",
    "print(\"π (quantecon):\", pi_builtin, \"\\n\")\n",
    "print(\"π (nostra GTH):\", pi_manual, \"\\n\")\n",
    "print(\"Verifica π • P (nostra GTH):\", pi_manual @ P)"
   ]
  },
  {
   "cell_type": "markdown",
   "id": "51b2b00e",
   "metadata": {},
   "source": [
    "### Confronto su matrice generatore Q"
   ]
  },
  {
   "cell_type": "code",
   "execution_count": null,
   "id": "d7184bcf",
   "metadata": {},
   "outputs": [],
   "source": [
    "Q = generazione_catene.genera_Q_irriducibile(5, 4)\n",
    "\n",
    "pi_builtin = gth_solve(Q)\n",
    "pi_q = metodi_stazionaria.my_gth_solve(Q)\n",
    "\n",
    "print(\"π (quantecon):\", pi_builtin, \"\\n\")\n",
    "print(\"π per Q (nostra GTH):\", pi_q, \"\\n\")\n",
    "print(\"Verifica π @ Q:\", pi_q @ Q)  # Deve essere vicino a 0"
   ]
  },
  {
   "cell_type": "markdown",
   "id": "17d3b8ef",
   "metadata": {},
   "source": [
    "## PyDTMC"
   ]
  },
  {
   "cell_type": "markdown",
   "id": "0b4d9dd3",
   "metadata": {},
   "source": [
    "### PyDTMC: calcolo di π e test di reversibilità\n",
    "\n",
    "* **Calcolo di π**  \n",
    "  PyDTMC impiega lo stesso algoritmo **GTH** di *quantecon*, ma lo applica soltanto a\n",
    "  matrici di transizione **P** (catene DTMC), dopo aver verificato che la somma di\n",
    "  ogni riga sia pari a 1.\n",
    "\n",
    "* **Reversibilità**  \n",
    "  Una volta ottenuta la distribuzione stazionaria $\\pi$,\n",
    "  PyDTMC costruisce la **matrice dei flussi**\n",
    "\n",
    "  $\n",
    "    F_{ij}= \\pi_i\\,P_{ij}.\n",
    "  $\n",
    "\n",
    "  Se $F$ risulta (entro la tolleranza numerica) **simmetrica**\n",
    "  $(F \\approx F^{\\mathsf{T}})$, la catena soddisfa il bilancio dettagliato\n",
    "  e viene etichettata come **reversible = YES**."
   ]
  },
  {
   "cell_type": "code",
   "execution_count": null,
   "id": "6e1d2b47",
   "metadata": {},
   "outputs": [],
   "source": [
    "mc = MarkovChain(P)\n",
    "print(mc)\n",
    "print(mc.steady_states)"
   ]
  },
  {
   "cell_type": "markdown",
   "id": "e66b1d3e",
   "metadata": {},
   "source": [
    "## Calcolo diretto di $\\pi$ tramite sistemi lineari e autovalori"
   ]
  },
  {
   "cell_type": "markdown",
   "id": "8d1eacab",
   "metadata": {},
   "source": [
    "### Metodo dei sistemi lineari\n",
    "- **DTMC**: risolve (I−Pᵀ)x=0  \n",
    "- **CTMC**: risolve Qᵀx=0  "
   ]
  },
  {
   "cell_type": "markdown",
   "id": "2e34e3de",
   "metadata": {},
   "source": [
    "\n",
    "### Metodo eigen-solver\n",
    "- π è l'autovettore **sinistro** associato a:\n",
    "  - λ=1 per P (DTMC)  \n",
    "  - λ=0 per Q (CTMC)"
   ]
  },
  {
   "cell_type": "code",
   "execution_count": null,
   "id": "765e761c",
   "metadata": {},
   "outputs": [],
   "source": [
    "pi1 = metodi_stazionaria.sistema_numpy(P)\n",
    "pi2 = metodi_stazionaria.sistema_scipy(P)\n",
    "pi3 = metodi_stazionaria.solve_via_eig_numpy(P)\n",
    "pi4 = metodi_stazionaria.solve_via_eig_scipy(P)\n",
    "print(pi1,pi2,pi3,pi4,sep=\"\\n\\n\")"
   ]
  },
  {
   "cell_type": "markdown",
   "id": "240feefe",
   "metadata": {},
   "source": [
    "## Metodo Power, ad iterazioni"
   ]
  },
  {
   "cell_type": "markdown",
   "id": "ff1a63d3",
   "metadata": {},
   "source": [
    "Algoritmo iterativo semplice ed efficace per trovare la distribuzione stazionaria.\n",
    "\n",
    "### Passaggi\n",
    "\n",
    "1. **Inizializzazione**  \n",
    "   $[\n",
    "   \\pi^{(0)} = \\left[ \\tfrac{1}{n}, \\dots, \\tfrac{1}{n} \\right]\n",
    "   $]\n",
    "\n",
    "2. **Iterazione**  \n",
    "   $[\n",
    "   \\pi^{(t+1)} =\n",
    "   \\begin{cases}\n",
    "   \\pi^{(t)} P, & \\text{(DTMC)} \\\\\n",
    "   \\pi^{(t)} \\left(I + \\frac{Q}{B}\\right), & \\text{(CTMC)}\n",
    "   \\end{cases}\n",
    "   \\quad\n",
    "   \\text{poi normalizzazione: } \\pi^{(t+1)} \\leftarrow \\frac{\\pi^{(t+1)}}{\\sum_i \\pi^{(t+1)}_i}\n",
    "   $]\n",
    "\n",
    "3. **Convergenza**  \n",
    "   $[\n",
    "   \\| \\pi^{(t+1)} - \\pi^{(t)} \\|_1 < \\text{tol}\n",
    "   \\quad (\\text{tol} = 10^{-15})\n",
    "   $]"
   ]
  },
  {
   "cell_type": "code",
   "execution_count": null,
   "id": "12fed737",
   "metadata": {},
   "outputs": [],
   "source": [
    "pi1 = metodi_stazionaria.solve_via_power_numpy(P)\n",
    "pi2 = metodi_stazionaria.solve_via_power_scipy(P)\n",
    "print(pi1, pi2, sep=\"\\n\\n\")"
   ]
  },
  {
   "cell_type": "markdown",
   "id": "3f9bbadd",
   "metadata": {},
   "source": [
    "## Andamento precisione e costo computazionale"
   ]
  },
  {
   "cell_type": "markdown",
   "id": "a24109a7",
   "metadata": {},
   "source": [
    "## Andamento precisione e costo computazionale"
   ]
  },
  {
   "cell_type": "markdown",
   "id": "b3d0d932",
   "metadata": {},
   "source": [
    "## Andamento precisione e costo computazionale"
   ]
  },
  {
   "cell_type": "markdown",
   "id": "9296e45b",
   "metadata": {},
   "source": [
    "## Andamento precisione e costo computazionale"
   ]
  },
  {
   "cell_type": "code",
   "execution_count": null,
   "id": "37838288",
   "metadata": {},
   "outputs": [],
   "source": [
    "# === Lista delle funzioni da confrontare ===\n",
    "metodi = [     \n",
    "    \"gth\",\n",
    "    \"system_scipy\",\n",
    "    \"system_numpy\",\n",
    "    \"eig_numpy\",\n",
    "    \"eig_scipy\",\n",
    "    \"power_numpy\",\n",
    "    \"power_scipy\"\n",
    "]\n",
    "\n",
    "# === Calcolo dati per ogni metodo ===\n",
    "risultati = {}\n",
    "\n",
    "for metodo in sorted(metodi):\n",
    "    dati = complessità.calcola_costo_e_errore(\n",
    "        funzione=metodo,\n",
    "        C=100,\n",
    "        n_punti=20,\n",
    "        n_matrici=200,\n",
    "        sparsity=0,\n",
    "        k=5,\n",
    "        tipo_gen_P_orQ=generazione_catene.genera_P_irriducibile,\n",
    "        discrete=True\n",
    "    )\n",
    "    risultati[metodo] = {\n",
    "        \"x\": [d[0] for d in dati],\n",
    "        \"tempo\": [d[1] for d in dati],\n",
    "        \"errore\": [d[2] for d in dati]\n",
    "    }"
   ]
  },
  {
   "cell_type": "code",
   "execution_count": null,
   "id": "45cd2c7e",
   "metadata": {},
   "outputs": [],
   "source": [
    "import matplotlib.ticker as ticker\n",
    "\n",
    "# === Grafico 1: Tempo di esecuzione ===\n",
    "fig, ax = plt.subplots(figsize=(18,10))\n",
    "for metodo in metodi:\n",
    "    ax.plot(risultati[metodo][\"x\"], risultati[metodo][\"tempo\"], 'o-', label=metodo, markersize=3)\n",
    "ax.set_xscale('log')\n",
    "ax.set_yscale('log')\n",
    "\n",
    "# Mostra solo griglia principale\n",
    "ax.grid(True, which='major', linestyle='-', linewidth=0.5)\n",
    "ax.grid(False, which='minor')\n",
    "\n",
    "# Forza i tick solo sulle decine\n",
    "ax.yaxis.set_major_locator(ticker.LogLocator(base=10.0, subs=(1.0,), numticks=100))\n",
    "ax.xaxis.set_major_locator(ticker.LogLocator(base=10.0, subs=(1.0,), numticks=100))\n",
    "\n",
    "ax.set_xlabel(\"Dimensione matrice $n$\", fontsize=12)\n",
    "ax.set_ylabel(\"Tempo medio (secondi)\", fontsize=12)\n",
    "ax.set_title(\"Confronto dei tempi di calcolo di $\\pi$ su matrice P densa\", fontsize=14)\n",
    "ax.legend(fontsize=13)\n",
    "\n",
    "\n",
    "plt.savefig(\"P_DENSA.svg\", dpi=300, format=\"svg\", bbox_inches=\"tight\")\n",
    "plt.show()\n",
    "\n",
    "# === Grafico 2: Errore ||πP - π||₁ ===\n",
    "fig, ax = plt.subplots(figsize=(18,10))\n",
    "for metodo in metodi:\n",
    "    ax.plot(risultati[metodo][\"x\"], risultati[metodo][\"errore\"], 'o-', label=metodo, markersize=3)\n",
    "ax.set_xscale('log')\n",
    "ax.set_yscale('log')\n",
    "\n",
    "ax.grid(True, which='major', linestyle='-', linewidth=0.5)\n",
    "ax.grid(False, which='minor')\n",
    "ax.yaxis.set_major_locator(ticker.LogLocator(base=10.0, subs=(1.0,), numticks=100))\n",
    "ax.xaxis.set_major_locator(ticker.LogLocator(base=10.0, subs=(1.0,), numticks=100))\n",
    "\n",
    "ax.set_xlabel(\"Dimensione matrice $n$\", fontsize=12)\n",
    "ax.set_ylabel(\"Errore\", fontsize=12)\n",
    "ax.set_title(\"Confronto degli errori di calcolo di $\\pi$ su matrice P densa\", fontsize=14)\n",
    "ax.legend(fontsize=13)\n",
    "\n",
    "\n",
    "plt.savefig(\"P_DENSA_ERRORE.svg\", dpi=300, format=\"svg\", bbox_inches=\"tight\")\n",
    "plt.show()"
   ]
  },
  {
   "cell_type": "code",
   "execution_count": null,
   "id": "60ce85ae",
   "metadata": {},
   "outputs": [],
   "source": [
    "# === Lista delle funzioni da confrontare ===\n",
    "metodi = [     \n",
    "    \"gth\",\n",
    "    \"system_scipy\",\n",
    "    \"system_numpy\",\n",
    "    \"eig_numpy\",\n",
    "    \"eig_scipy\",\n",
    "    \"power_numpy\",\n",
    "    \"power_scipy\"\n",
    "]\n",
    "\n",
    "# === Calcolo dati per ogni metodo ===\n",
    "risultati = {}\n",
    "\n",
    "for metodo in sorted(metodi):\n",
    "    dati = complessità.calcola_costo_e_errore(\n",
    "        funzione=metodo,\n",
    "        C=100,\n",
    "        n_punti=20,\n",
    "        n_matrici=200,\n",
    "        sparsity=0,\n",
    "        k=5,\n",
    "        tipo_gen_P_orQ=generazione_catene.genera_P_k_random,\n",
    "        discrete=True\n",
    "    )\n",
    "    risultati[metodo] = {\n",
    "        \"x\": [d[0] for d in dati],\n",
    "        \"tempo\": [d[1] for d in dati],\n",
    "        \"errore\": [d[2] for d in dati]\n",
    "    }"
   ]
  },
  {
   "cell_type": "code",
   "execution_count": null,
   "id": "196268b9",
   "metadata": {},
   "outputs": [],
   "source": [
    "import matplotlib.ticker as ticker\n",
    "\n",
    "# === Grafico 1: Tempo di esecuzione ===\n",
    "fig, ax = plt.subplots(figsize=(18,10))\n",
    "for metodo in metodi:\n",
    "    ax.plot(risultati[metodo][\"x\"], risultati[metodo][\"tempo\"], 'o-', label=metodo, markersize=3)\n",
    "ax.set_xscale('log')\n",
    "ax.set_yscale('log')\n",
    "\n",
    "# Mostra solo griglia principale\n",
    "ax.grid(True, which='major', linestyle='-', linewidth=0.5)\n",
    "ax.grid(False, which='minor')\n",
    "\n",
    "# Forza i tick solo sulle decine\n",
    "ax.yaxis.set_major_locator(ticker.LogLocator(base=10.0, subs=(1.0,), numticks=100))\n",
    "ax.xaxis.set_major_locator(ticker.LogLocator(base=10.0, subs=(1.0,), numticks=100))\n",
    "\n",
    "ax.set_xlabel(\"Dimensione matrice $n$\", fontsize=12)\n",
    "ax.set_ylabel(\"Tempo medio (secondi)\", fontsize=12)\n",
    "ax.set_title(\"Confronto dei tempi di calcolo di $\\pi$ su matrice P sparsa con 5 archi per nodo\", fontsize=14)\n",
    "ax.legend(fontsize=13)\n",
    "\n",
    "\n",
    "plt.savefig(\"P_SPARSA.svg\", dpi=300, format=\"svg\", bbox_inches=\"tight\")\n",
    "plt.show()\n",
    "\n",
    "# === Grafico 2: Errore ||πP - π||₁ ===\n",
    "fig, ax = plt.subplots(figsize=(18,10))\n",
    "for metodo in metodi:\n",
    "    ax.plot(risultati[metodo][\"x\"], risultati[metodo][\"errore\"], 'o-', label=metodo, markersize=3)\n",
    "ax.set_xscale('log')\n",
    "ax.set_yscale('log')\n",
    "\n",
    "ax.grid(True, which='major', linestyle='-', linewidth=0.5)\n",
    "ax.grid(False, which='minor')\n",
    "ax.yaxis.set_major_locator(ticker.LogLocator(base=10.0, subs=(1.0,), numticks=100))\n",
    "ax.xaxis.set_major_locator(ticker.LogLocator(base=10.0, subs=(1.0,), numticks=100))\n",
    "\n",
    "ax.set_xlabel(\"Dimensione matrice $n$\", fontsize=12)\n",
    "ax.set_ylabel(\"Errore\", fontsize=12)\n",
    "ax.set_title(\"Confronto degli errori di calcolo di $\\pi$ su matrice P sparsa con 5 archi per nodo\", fontsize=14)\n",
    "ax.legend(fontsize=13)\n",
    "\n",
    "\n",
    "plt.savefig(\"P_SPARSA_ERRORE.svg\", dpi=300, format=\"svg\", bbox_inches=\"tight\")\n",
    "plt.show()"
   ]
  },
  {
   "cell_type": "code",
   "execution_count": null,
   "id": "1cf6386c",
   "metadata": {},
   "outputs": [],
   "source": [
    "# === Lista delle funzioni da confrontare ===\n",
    "metodi = [     \n",
    "    \"gth\",\n",
    "    \"system_scipy\",\n",
    "    \"system_numpy\",\n",
    "    \"eig_numpy\",\n",
    "    \"eig_scipy\",\n",
    "    \"power_numpy\",\n",
    "    \"power_scipy\"\n",
    "]\n",
    "\n",
    "# === Calcolo dati per ogni metodo ===\n",
    "risultati = {}\n",
    "\n",
    "for metodo in sorted(metodi):\n",
    "    dati = complessità.calcola_costo_e_errore(\n",
    "        funzione=metodo,\n",
    "        C=100,\n",
    "        n_punti=20,\n",
    "        n_matrici=200,\n",
    "        sparsity=0,\n",
    "        k=5,\n",
    "        tipo_gen_P_orQ=generazione_catene.genera_Q_irriducibile,\n",
    "        discrete=False\n",
    "    )\n",
    "    risultati[metodo] = {\n",
    "        \"x\": [d[0] for d in dati],\n",
    "        \"tempo\": [d[1] for d in dati],\n",
    "        \"errore\": [d[2] for d in dati]\n",
    "    }"
   ]
  },
  {
   "cell_type": "code",
   "execution_count": null,
   "id": "14fa34b0",
   "metadata": {},
   "outputs": [],
   "source": [
    "import matplotlib.ticker as ticker\n",
    "\n",
    "# === Grafico 1: Tempo di esecuzione ===\n",
    "fig, ax = plt.subplots(figsize=(18,10))\n",
    "for metodo in metodi:\n",
    "    ax.plot(risultati[metodo][\"x\"], risultati[metodo][\"tempo\"], 'o-', label=metodo, markersize=3)\n",
    "ax.set_xscale('log')\n",
    "ax.set_yscale('log')\n",
    "\n",
    "# Mostra solo griglia principale\n",
    "ax.grid(True, which='major', linestyle='-', linewidth=0.5)\n",
    "ax.grid(False, which='minor')\n",
    "\n",
    "# Forza i tick solo sulle decine\n",
    "ax.yaxis.set_major_locator(ticker.LogLocator(base=10.0, subs=(1.0,), numticks=100))\n",
    "ax.xaxis.set_major_locator(ticker.LogLocator(base=10.0, subs=(1.0,), numticks=100))\n",
    "\n",
    "ax.set_xlabel(\"Dimensione matrice $n$\", fontsize=12)\n",
    "ax.set_ylabel(\"Tempo medio (secondi)\", fontsize=12)\n",
    "ax.set_title(\"Confronto dei tempi di calcolo di $\\pi$ su matrice Q densa\", fontsize=14)\n",
    "ax.legend(fontsize=13)\n",
    "\n",
    "\n",
    "plt.savefig(\"Q_DESNA.svg\", dpi=300, format=\"svg\", bbox_inches=\"tight\")\n",
    "plt.show()\n",
    "\n",
    "# === Grafico 2: Errore ||πP - π||₁ ===\n",
    "fig, ax = plt.subplots(figsize=(18,10))\n",
    "for metodo in metodi:\n",
    "    ax.plot(risultati[metodo][\"x\"], risultati[metodo][\"errore\"], 'o-', label=metodo, markersize=3)\n",
    "ax.set_xscale('log')\n",
    "ax.set_yscale('log')\n",
    "\n",
    "ax.grid(True, which='major', linestyle='-', linewidth=0.5)\n",
    "ax.grid(False, which='minor')\n",
    "ax.yaxis.set_major_locator(ticker.LogLocator(base=10.0, subs=(1.0,), numticks=100))\n",
    "ax.xaxis.set_major_locator(ticker.LogLocator(base=10.0, subs=(1.0,), numticks=100))\n",
    "\n",
    "ax.set_xlabel(\"Dimensione matrice $n$\", fontsize=12)\n",
    "ax.set_ylabel(\"Errore\", fontsize=12)\n",
    "ax.set_title(\"Confronto degli errori di calcolo di $\\pi$ su matrice Q densa\", fontsize=14)\n",
    "ax.legend(fontsize=13)\n",
    "\n",
    "\n",
    "plt.savefig(\"Q_DENSA_ERRORE.svg\", dpi=300, format=\"svg\", bbox_inches=\"tight\")\n",
    "plt.show()"
   ]
  },
  {
   "cell_type": "code",
   "execution_count": null,
   "id": "fd165405",
   "metadata": {},
   "outputs": [],
   "source": [
    "# === Lista delle funzioni da confrontare ===\n",
    "metodi = [     \n",
    "    \"gth\",\n",
    "    \"system_scipy\",\n",
    "    \"system_numpy\",\n",
    "    \"eig_numpy\",\n",
    "    \"eig_scipy\",\n",
    "    \"power_numpy\",\n",
    "    \"power_scipy\"\n",
    "]\n",
    "\n",
    "# === Calcolo dati per ogni metodo ===\n",
    "risultati = {}\n",
    "\n",
    "for metodo in sorted(metodi):\n",
    "    dati = complessità.calcola_costo_e_errore(\n",
    "        funzione=metodo,\n",
    "        C=100,\n",
    "        n_punti=20,\n",
    "        n_matrici=200,\n",
    "        sparsity=0,\n",
    "        k=5,\n",
    "        tipo_gen_P_orQ=generazione_catene.genera_Q_k_random,\n",
    "        discrete=False\n",
    "    )\n",
    "    risultati[metodo] = {\n",
    "        \"x\": [d[0] for d in dati],\n",
    "        \"tempo\": [d[1] for d in dati],\n",
    "        \"errore\": [d[2] for d in dati]\n",
    "    }"
   ]
  },
  {
   "cell_type": "code",
   "execution_count": null,
   "id": "5ff5f4b7",
   "metadata": {},
   "outputs": [],
   "source": [
    "import matplotlib.ticker as ticker\n",
    "\n",
    "# === Grafico 1: Tempo di esecuzione ===\n",
    "fig, ax = plt.subplots(figsize=(18,10))\n",
    "for metodo in metodi:\n",
    "    ax.plot(risultati[metodo][\"x\"], risultati[metodo][\"tempo\"], 'o-', label=metodo, markersize=3)\n",
    "ax.set_xscale('log')\n",
    "ax.set_yscale('log')\n",
    "\n",
    "# Mostra solo griglia principale\n",
    "ax.grid(True, which='major', linestyle='-', linewidth=0.5)\n",
    "ax.grid(False, which='minor')\n",
    "\n",
    "# Forza i tick solo sulle decine\n",
    "ax.yaxis.set_major_locator(ticker.LogLocator(base=10.0, subs=(1.0,), numticks=100))\n",
    "ax.xaxis.set_major_locator(ticker.LogLocator(base=10.0, subs=(1.0,), numticks=100))\n",
    "\n",
    "ax.set_xlabel(\"Dimensione matrice $n$\", fontsize=12)\n",
    "ax.set_ylabel(\"Tempo medio (secondi)\", fontsize=12)\n",
    "ax.set_title(\"Confronto dei tempi di calcolo di $\\pi$ su matrice Q sparsa con 5 archi per nodo\", fontsize=14)\n",
    "ax.legend(fontsize=13)\n",
    "\n",
    "\n",
    "plt.savefig(\"Q_SPARSA.svg\", dpi=300, format=\"svg\", bbox_inches=\"tight\")\n",
    "plt.show()\n",
    "\n",
    "# === Grafico 2: Errore ||πP - π||₁ ===\n",
    "fig, ax = plt.subplots(figsize=(18,10))\n",
    "for metodo in metodi:\n",
    "    ax.plot(risultati[metodo][\"x\"], risultati[metodo][\"errore\"], 'o-', label=metodo, markersize=3)\n",
    "ax.set_xscale('log')\n",
    "ax.set_yscale('log')\n",
    "\n",
    "ax.grid(True, which='major', linestyle='-', linewidth=0.5)\n",
    "ax.grid(False, which='minor')\n",
    "ax.yaxis.set_major_locator(ticker.LogLocator(base=10.0, subs=(1.0,), numticks=100))\n",
    "ax.xaxis.set_major_locator(ticker.LogLocator(base=10.0, subs=(1.0,), numticks=100))\n",
    "\n",
    "ax.set_xlabel(\"Dimensione matrice $n$\", fontsize=12)\n",
    "ax.set_ylabel(\"Errore\", fontsize=12)\n",
    "ax.set_title(\"Confronto degli errori di calcolo di $\\pi$ su matrice Q sparsa con 5 archi per nodo\", fontsize=14)\n",
    "ax.legend(fontsize=13)\n",
    "\n",
    "\n",
    "plt.savefig(\"Q_SPARSA_ERRORE.svg\", dpi=300, format=\"svg\", bbox_inches=\"tight\")\n",
    "plt.show()"
   ]
  }
 ],
 "metadata": {
  "kernelspec": {
   "display_name": "Python 3",
   "language": "python",
   "name": "python3"
  },
  "language_info": {
   "codemirror_mode": {
    "name": "ipython",
    "version": 3
   },
   "file_extension": ".py",
   "mimetype": "text/x-python",
   "name": "python",
   "nbconvert_exporter": "python",
   "pygments_lexer": "ipython3",
   "version": "3.9.6"
  }
 },
 "nbformat": 4,
 "nbformat_minor": 5
}
