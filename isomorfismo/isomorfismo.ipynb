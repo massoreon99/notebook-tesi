{
 "cells": [
  {
   "cell_type": "markdown",
   "id": "608a293d",
   "metadata": {},
   "source": [
    "# `Studio dell'isomorifsmo a partire dallo spettro`"
   ]
  },
  {
   "cell_type": "markdown",
   "id": "69cdc6d1",
   "metadata": {},
   "source": [
    "Dato un grafo $G$ con matrice di adiacenza $A_G$ e un grafo $H$ con matrice $A_H$,\n",
    "\n",
    "- Se $G$ e $H$ sono **isomorfi**, esiste una matrice di permutazione $P$ tale che\n",
    "  $\n",
    "    A_H \\;=\\; P\\,A_G\\,P^\\top.\n",
    "  $\n",
    "  In questo caso **condividono lo stesso spettro**:\n",
    "  $\n",
    "    \\mathrm{spettro}(A_G)\\;=\\;\\mathrm{spettro}(A_H).\n",
    "  $\n",
    "\n",
    "- **L’implicazione inversa** però **non vale** in generale!  \n",
    "  Esistono coppie di grafi non isomorfi, detti **cospettrali**, che però hanno\n",
    "  $\n",
    "    \\mathrm{spettro}(A_{G_1}) \\;=\\;\\mathrm{spettro}(A_{G_2}).\n",
    "  $\n",
    "  I primi esempi classici furono dati da Cvetković (la “Saltire pair”) e sono \n",
    "  descritti in Van Dam & Haemers (2003) “Which graphs are determined by their spectrum?” “classici”\n",
    "\n",
    "- **Saltire pair** su 5 vertici, spettro $\\{2,0^3,-2\\}$ per entrambi.\n",
    "- Van Dam–Haemers (2003) mostrano molte altre coppie, anche su 6–7 vertici.\n",
    "- In generale: per **nessuna** delle matrici\n",
    "  - adiacenza $A$,\n",
    "  - laplaciana $L$,\n",
    "  - signless-laplaciana $|L|$,\n",
    "  \n",
    "  si ottiene uno “spettro unico” che caratterizzi il grafo up-to-isomorfismo.\n",
    "\n",
    "---\n",
    "\n",
    "**Pertanto**:  \n",
    "- Se gli spettri **differiscono**, i grafi **non** possono essere isomorfi.  \n",
    "- Se gli spettri **coincidono**, i grafi **possono** essere isomorfi, ma **non è garantito**.\n",
    "\n",
    "Nelle celle successive mostreremo in pratica come costruire e confrontare due grafi cospettrali, calcolando i loro autovalori.  "
   ]
  },
  {
   "cell_type": "markdown",
   "id": "2020b1df",
   "metadata": {},
   "source": [
    "## Librerie"
   ]
  },
  {
   "cell_type": "code",
   "execution_count": null,
   "id": "468a80de",
   "metadata": {},
   "outputs": [],
   "source": [
    "import networkx as nx\n",
    "import numpy as np\n",
    "import matplotlib.pyplot as plt\n",
    "from matplotlib.widgets import Slider"
   ]
  },
  {
   "cell_type": "markdown",
   "id": "09b8df42",
   "metadata": {},
   "source": [
    "## Funzioni"
   ]
  },
  {
   "cell_type": "code",
   "execution_count": null,
   "id": "4f3f0d6c",
   "metadata": {},
   "outputs": [],
   "source": [
    "# ------------------------------------------------------------------\n",
    "# Helper: conversione rapida a matrice di adiacenza -----------------\n",
    "\n",
    "def to_adj(M):\n",
    "    if isinstance(M, (nx.Graph, nx.DiGraph)):\n",
    "        return nx.to_numpy_array(M)\n",
    "    return np.asarray(M)\n",
    "\n",
    "# ------------------------------------------------------------------\n",
    "# Funzioni spettrali -------------------------------------------------\n",
    "\n",
    "def sorted_eigvals(A):\n",
    "    return np.sort(np.linalg.eigvals(to_adj(A)).real)\n",
    "\n",
    "\n",
    "def laplacian(A):\n",
    "    A = to_adj(A)\n",
    "    D = np.diag(A.sum(axis=1))\n",
    "    return D - A\n",
    "\n",
    "\n",
    "def normalized_laplacian(A):\n",
    "    A = to_adj(A)\n",
    "    D = np.diag(A.sum(axis=1))\n",
    "    with np.errstate(divide=\"ignore\"):\n",
    "        D_inv_sqrt = np.diag(1 / np.sqrt(A.sum(axis=1)))\n",
    "    D_inv_sqrt[np.isinf(D_inv_sqrt)] = 0\n",
    "    return D_inv_sqrt @ laplacian(A) @ D_inv_sqrt\n",
    "\n",
    "\n",
    "def signless_laplacian(A):\n",
    "    A = to_adj(A)\n",
    "    D = np.diag(A.sum(axis=1))\n",
    "    return D + A\n",
    "\n",
    "# ------------------------------------------------------------------\n",
    "# Visual -------------------------------------------------------------\n",
    "\n",
    "def show_graph_pair(G1, G2, titles, layout=\"circular\"):\n",
    "    pos_fun = nx.circular_layout if layout == \"circular\" else nx.spring_layout\n",
    "    pos1, pos2 = pos_fun(G1), pos_fun(G2)\n",
    "    plt.figure(figsize=(8, 4))\n",
    "    plt.subplot(1, 2, 1)\n",
    "    nx.draw(G1, pos1, with_labels=True, node_color=\"skyblue\")\n",
    "    plt.title(titles[0])\n",
    "    plt.subplot(1, 2, 2)\n",
    "    nx.draw(G2, pos2, with_labels=True, node_color=\"lightgreen\")\n",
    "    plt.title(titles[1])\n",
    "    plt.tight_layout()\n",
    "    plt.show()\n",
    "\n",
    "# ------------------------------------------------------------------\n",
    "# Report -------------------------------------------------------------\n",
    "\n",
    "def compare_pair(A1, A2, name):\n",
    "    A1m, A2m = to_adj(A1), to_adj(A2)\n",
    "    specs = {\n",
    "        \"Adjacency A\": (sorted_eigvals(A1m), sorted_eigvals(A2m)),\n",
    "        \"Laplacian L\": (sorted_eigvals(laplacian(A1m)), sorted_eigvals(laplacian(A2m))),\n",
    "        \"Normalized L\": (sorted_eigvals(normalized_laplacian(A1m)), sorted_eigvals(normalized_laplacian(A2m))),\n",
    "        \"Signless |L|\": (sorted_eigvals(signless_laplacian(A1m)), sorted_eigvals(signless_laplacian(A2m))),\n",
    "        \"Line‑graph A\": (\n",
    "            sorted_eigvals(nx.to_numpy_array(nx.line_graph(nx.from_numpy_array(A1m)))),\n",
    "            sorted_eigvals(nx.to_numpy_array(nx.line_graph(nx.from_numpy_array(A2m)))),\n",
    "        ),\n",
    "    }\n",
    "    print(f\"\\n{name}\")\n",
    "    for mat_name, (s1, s2) in specs.items():\n",
    "        print(f\"{mat_name:15}: {'cospettrali' if np.allclose(s1, s2) else 'diversi'}\")"
   ]
  },
  {
   "cell_type": "markdown",
   "id": "e68a257d",
   "metadata": {},
   "source": [
    "## Esempi"
   ]
  },
  {
   "cell_type": "markdown",
   "id": "d97f03cd",
   "metadata": {},
   "source": [
    "### Saltire pair (bandiera scozzese)"
   ]
  },
  {
   "cell_type": "code",
   "execution_count": null,
   "id": "bbe5abee",
   "metadata": {},
   "outputs": [],
   "source": [
    "A_saltire_1 = np.array([\n",
    "    [0,1,0,1,0],\n",
    "    [1,0,0,0,1],\n",
    "    [0,0,0,0,0],\n",
    "    [1,0,0,0,1],\n",
    "    [0,1,0,1,0]\n",
    "])\n",
    "A_saltire_2 = np.array([\n",
    "    [0,0,1,0,0],\n",
    "    [0,0,1,0,0],\n",
    "    [1,1,0,1,1],\n",
    "    [0,0,1,0,0],\n",
    "    [0,0,1,0,0]\n",
    "])\n",
    "G_s1, G_s2 = map(nx.from_numpy_array, (A_saltire_1, A_saltire_2))\n",
    "show_graph_pair(G_s1, G_s2, [\"Saltire G1\", \"Saltire G2\"])\n",
    "compare_pair(A_saltire_1, A_saltire_2, \"Saltire pair\")"
   ]
  },
  {
   "cell_type": "markdown",
   "id": "8355aa40",
   "metadata": {},
   "source": [
    "### Alberi"
   ]
  },
  {
   "cell_type": "code",
   "execution_count": null,
   "id": "9473b947",
   "metadata": {},
   "outputs": [],
   "source": [
    "A_tree_1 = np.array([\n",
    "    [0,1,0,0,0,0,1,0],\n",
    "    [1,0,1,1,1,1,0,0],\n",
    "    [0,1,0,0,0,0,0,0],\n",
    "    [0,1,0,0,0,0,0,0],\n",
    "    [0,1,0,0,0,0,0,0],\n",
    "    [0,1,0,0,0,0,0,0],\n",
    "    [1,0,0,0,0,0,0,1],\n",
    "    [0,0,0,0,0,0,1,0]\n",
    "])\n",
    "A_tree_2 = np.array([\n",
    "    [0,1,0,0,0,1,1,1],\n",
    "    [1,0,1,1,1,0,0,0],\n",
    "    [0,1,0,0,0,0,0,0],\n",
    "    [0,1,0,0,0,0,0,0],\n",
    "    [0,1,0,0,0,0,0,0],\n",
    "    [1,0,0,0,0,0,0,0],\n",
    "    [1,0,0,0,0,0,0,0],\n",
    "    [1,0,0,0,0,0,0,0]\n",
    "])\n",
    "G_t1, G_t2 = map(nx.from_numpy_array, (A_tree_1, A_tree_2))\n",
    "show_graph_pair(G_t1, G_t2, [\"Tree T1\", \"Tree T2\"], layout=\"spring\")\n",
    "compare_pair(A_tree_1, A_tree_2, \"Alberi (8 nodi)\")"
   ]
  },
  {
   "cell_type": "markdown",
   "id": "473c5cbe",
   "metadata": {},
   "source": [
    "### Triangolo + isolato vs stella K1,3"
   ]
  },
  {
   "cell_type": "code",
   "execution_count": null,
   "id": "2bd881bd",
   "metadata": {},
   "outputs": [],
   "source": [
    "A_tri_iso = np.array([\n",
    "    [0,1,1,0],\n",
    "    [1,0,1,0],\n",
    "    [1,1,0,0],\n",
    "    [0,0,0,0]\n",
    "])\n",
    "A_star = np.array([\n",
    "    [0,1,1,1],\n",
    "    [1,0,0,0],\n",
    "    [1,0,0,0],\n",
    "    [1,0,0,0]\n",
    "])\n",
    "G_tri, G_star = map(nx.from_numpy_array, (A_tri_iso, A_star))\n",
    "show_graph_pair(G_tri, G_star, [\"Triangolo+isolato\", \"Stella K₁,₃\"], layout=\"spring\")\n",
    "compare_pair(A_tri_iso, A_star, \"Triangolo vs Stella (|L|‑cospettrali)\")"
   ]
  },
  {
   "cell_type": "markdown",
   "id": "a2bce47b",
   "metadata": {},
   "source": [
    "### GM‑switching pair (8 nodi)"
   ]
  },
  {
   "cell_type": "code",
   "execution_count": null,
   "id": "e30bb17f",
   "metadata": {},
   "outputs": [],
   "source": [
    "A_gm_1 = np.array([\n",
    "    [0,1,0,0,0,0,0,0],\n",
    "    [1,0,0,0,0,1,0,1],\n",
    "    [0,0,0,1,0,1,1,0],\n",
    "    [0,0,1,0,0,0,1,1],\n",
    "    [0,0,0,0,0,1,0,0],\n",
    "    [0,1,1,0,1,0,0,0],\n",
    "    [0,0,1,1,0,0,0,0],\n",
    "    [0,1,0,1,0,0,0,0]\n",
    "])\n",
    "A_gm_2 = np.array([\n",
    "    [0,1,0,0,0,1,1,1],\n",
    "    [1,0,0,0,0,0,1,0],\n",
    "    [0,0,0,1,0,0,0,1],\n",
    "    [0,0,1,0,0,1,0,0],\n",
    "    [0,0,0,0,0,1,0,0],\n",
    "    [1,0,0,1,1,0,0,0],\n",
    "    [1,1,0,0,0,0,0,0],\n",
    "    [1,0,1,0,0,0,0,0]\n",
    "])\n",
    "G_gm1, G_gm2 = map(nx.from_numpy_array, (A_gm_1, A_gm_2))\n",
    "show_graph_pair(G_gm1, G_gm2, [\"GM G1\", \"GM G2\"], layout=\"spring\")\n",
    "compare_pair(A_gm_1, A_gm_2, \"GM‑switching pair (8 nodi)\")"
   ]
  }
 ],
 "metadata": {
  "kernelspec": {
   "display_name": "Python 3",
   "language": "python",
   "name": "python3"
  },
  "language_info": {
   "codemirror_mode": {
    "name": "ipython",
    "version": 3
   },
   "file_extension": ".py",
   "mimetype": "text/x-python",
   "name": "python",
   "nbconvert_exporter": "python",
   "pygments_lexer": "ipython3",
   "version": "3.9.6"
  }
 },
 "nbformat": 4,
 "nbformat_minor": 5
}
