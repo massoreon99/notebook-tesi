{
 "cells": [
  {
   "cell_type": "markdown",
   "id": "608a293d",
   "metadata": {},
   "source": [
    "# `Studio dell'isomorifsmo a partire dallo spettro`"
   ]
  },
  {
   "cell_type": "markdown",
   "id": "69cdc6d1",
   "metadata": {},
   "source": [
    "Dato un grafo $G$ con matrice di adiacenza $A_G$ e un grafo $H$ con matrice $A_H$,\n",
    "\n",
    "- Se $G$ e $H$ sono **isomorfi**, esiste una matrice di permutazione $P$ tale che\n",
    "  $\n",
    "    A_H \\;=\\; P\\,A_G\\,P^\\top.\n",
    "  $\n",
    "  In questo caso **condividono lo stesso spettro**:\n",
    "  $\n",
    "    \\mathrm{spettro}(A_G)\\;=\\;\\mathrm{spettro}(A_H).\n",
    "  $\n",
    "\n",
    "- **L’implicazione inversa** però **non vale** in generale!  \n",
    "  Esistono coppie di grafi non isomorfi, detti **cospettrali**, che però hanno\n",
    "  $\n",
    "    \\mathrm{spettro}(A_{G_1}) \\;=\\;\\mathrm{spettro}(A_{G_2}).\n",
    "  $\n",
    "  I primi esempi classici furono dati da Cvetković (la “Saltire pair”) e sono \n",
    "  descritti in Van Dam & Haemers (2003) “Which graphs are determined by their spectrum?” “classici”\n",
    "\n",
    "- **Saltire pair** su 5 vertici, spettro $\\{2,0^3,-2\\}$ per entrambi.\n",
    "- Van Dam–Haemers (2003) mostrano molte altre coppie, anche su 6–7 vertici.\n",
    "- In generale: per **nessuna** delle matrici\n",
    "  - adiacenza $A$,\n",
    "  - laplaciana $L$,\n",
    "  - signless-laplaciana $|L|$,\n",
    "  \n",
    "  si ottiene uno “spettro unico” che caratterizzi il grafo up-to-isomorfismo.\n",
    "\n",
    "---\n",
    "\n",
    "**Pertanto**:  \n",
    "- Se gli spettri **differiscono**, i grafi **non** possono essere isomorfi.  \n",
    "- Se gli spettri **coincidono**, i grafi **possono** essere isomorfi, ma **non è garantito**.\n",
    "\n",
    "Nelle celle successive mostreremo in pratica come costruire e confrontare due grafi cospettrali, calcolando i loro autovalori.  "
   ]
  },
  {
   "cell_type": "markdown",
   "id": "2020b1df",
   "metadata": {},
   "source": [
    "## Librerie"
   ]
  },
  {
   "cell_type": "code",
   "execution_count": null,
   "id": "468a80de",
   "metadata": {},
   "outputs": [],
   "source": [
    "import networkx as nx\n",
    "import numpy as np\n",
    "import func "
   ]
  },
  {
   "cell_type": "markdown",
   "id": "e68a257d",
   "metadata": {},
   "source": [
    "## Esempi"
   ]
  },
  {
   "cell_type": "markdown",
   "id": "d97f03cd",
   "metadata": {},
   "source": [
    "### Saltire pair (bandiera scozzese)"
   ]
  },
  {
   "cell_type": "code",
   "execution_count": null,
   "id": "bbe5abee",
   "metadata": {},
   "outputs": [],
   "source": [
    "A_saltire_1 = np.array([\n",
    "    [0,1,0,1,0],\n",
    "    [1,0,0,0,1],\n",
    "    [0,0,0,0,0],\n",
    "    [1,0,0,0,1],\n",
    "    [0,1,0,1,0]\n",
    "])\n",
    "A_saltire_2 = np.array([\n",
    "    [0,0,1,0,0],\n",
    "    [0,0,1,0,0],\n",
    "    [1,1,0,1,1],\n",
    "    [0,0,1,0,0],\n",
    "    [0,0,1,0,0]\n",
    "])\n",
    "G_s1, G_s2 = map(nx.from_numpy_array, (A_saltire_1, A_saltire_2))\n",
    "func.show_graph_pair(G_s1, G_s2, [\"Saltire G1\", \"Saltire G2\"])\n",
    "func.compare_pair(A_saltire_1, A_saltire_2, \"Saltire pair\")"
   ]
  },
  {
   "cell_type": "markdown",
   "id": "8355aa40",
   "metadata": {},
   "source": [
    "### Alberi"
   ]
  },
  {
   "cell_type": "code",
   "execution_count": null,
   "id": "9473b947",
   "metadata": {},
   "outputs": [],
   "source": [
    "A_tree_1 = np.array([\n",
    "    [0,1,0,0,0,0,1,0],\n",
    "    [1,0,1,1,1,1,0,0],\n",
    "    [0,1,0,0,0,0,0,0],\n",
    "    [0,1,0,0,0,0,0,0],\n",
    "    [0,1,0,0,0,0,0,0],\n",
    "    [0,1,0,0,0,0,0,0],\n",
    "    [1,0,0,0,0,0,0,1],\n",
    "    [0,0,0,0,0,0,1,0]\n",
    "])\n",
    "A_tree_2 = np.array([\n",
    "    [0,1,0,0,0,1,1,1],\n",
    "    [1,0,1,1,1,0,0,0],\n",
    "    [0,1,0,0,0,0,0,0],\n",
    "    [0,1,0,0,0,0,0,0],\n",
    "    [0,1,0,0,0,0,0,0],\n",
    "    [1,0,0,0,0,0,0,0],\n",
    "    [1,0,0,0,0,0,0,0],\n",
    "    [1,0,0,0,0,0,0,0]\n",
    "])\n",
    "G_t1, G_t2 = map(nx.from_numpy_array, (A_tree_1, A_tree_2))\n",
    "func.show_graph_pair(G_t1, G_t2, [\"Tree T1\", \"Tree T2\"], layout=\"spring\")\n",
    "func.compare_pair(A_tree_1, A_tree_2, \"Alberi (8 nodi)\")"
   ]
  },
  {
   "cell_type": "markdown",
   "id": "473c5cbe",
   "metadata": {},
   "source": [
    "### Triangolo + isolato vs stella K1,3"
   ]
  },
  {
   "cell_type": "code",
   "execution_count": null,
   "id": "2bd881bd",
   "metadata": {},
   "outputs": [],
   "source": [
    "A_tri_iso = np.array([\n",
    "    [0,1,1,0],\n",
    "    [1,0,1,0],\n",
    "    [1,1,0,0],\n",
    "    [0,0,0,0]\n",
    "])\n",
    "A_star = np.array([\n",
    "    [0,1,1,1],\n",
    "    [1,0,0,0],\n",
    "    [1,0,0,0],\n",
    "    [1,0,0,0]\n",
    "])\n",
    "G_tri, G_star = map(nx.from_numpy_array, (A_tri_iso, A_star))\n",
    "func.show_graph_pair(G_tri, G_star, [\"Triangolo+isolato\", \"Stella K₁,₃\"], layout=\"spring\")\n",
    "func.compare_pair(A_tri_iso, A_star, \"Triangolo vs Stella (|L|‑cospettrali)\")"
   ]
  },
  {
   "cell_type": "markdown",
   "id": "a2bce47b",
   "metadata": {},
   "source": [
    "### GM‑switching pair (8 nodi)"
   ]
  },
  {
   "cell_type": "code",
   "execution_count": null,
   "id": "e30bb17f",
   "metadata": {},
   "outputs": [],
   "source": [
    "A_gm_1 = np.array([\n",
    "    [0,1,0,0,0,0,0,0],\n",
    "    [1,0,0,0,0,1,0,1],\n",
    "    [0,0,0,1,0,1,1,0],\n",
    "    [0,0,1,0,0,0,1,1],\n",
    "    [0,0,0,0,0,1,0,0],\n",
    "    [0,1,1,0,1,0,0,0],\n",
    "    [0,0,1,1,0,0,0,0],\n",
    "    [0,1,0,1,0,0,0,0]\n",
    "])\n",
    "A_gm_2 = np.array([\n",
    "    [0,1,0,0,0,1,1,1],\n",
    "    [1,0,0,0,0,0,1,0],\n",
    "    [0,0,0,1,0,0,0,1],\n",
    "    [0,0,1,0,0,1,0,0],\n",
    "    [0,0,0,0,0,1,0,0],\n",
    "    [1,0,0,1,1,0,0,0],\n",
    "    [1,1,0,0,0,0,0,0],\n",
    "    [1,0,1,0,0,0,0,0]\n",
    "])\n",
    "G_gm1, G_gm2 = map(nx.from_numpy_array, (A_gm_1, A_gm_2))\n",
    "func.show_graph_pair(G_gm1, G_gm2, [\"GM G1\", \"GM G2\"], layout=\"spring\")\n",
    "func.compare_pair(A_gm_1, A_gm_2, \"GM-switching pair (8 nodi)\")"
   ]
  }
 ],
 "metadata": {
  "kernelspec": {
   "display_name": "Python 3",
   "language": "python",
   "name": "python3"
  },
  "language_info": {
   "codemirror_mode": {
    "name": "ipython",
    "version": 3
   },
   "file_extension": ".py",
   "mimetype": "text/x-python",
   "name": "python",
   "nbconvert_exporter": "python",
   "pygments_lexer": "ipython3",
   "version": "3.9.6"
  }
 },
 "nbformat": 4,
 "nbformat_minor": 5
}
