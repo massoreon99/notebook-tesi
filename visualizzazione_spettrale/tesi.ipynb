{
 "cells": [
  {
   "cell_type": "markdown",
   "id": "8ed3351a",
   "metadata": {},
   "source": [
    "# __Tesi di Laurea – Visualizzazione spettrale dei grafi__\n",
    "\n",
    "L’obiettivo è usare l'algebra spettrale per rappresentare graficamente la struttura di un grafo, sfruttando le informazioni che si ottengono dagli autovettori delle principali matrici associate al grafo (Laplaciana, normalizzata, Walk matrix, ecc.).\n",
    "\n",
    "A seconda del tipo di grafo (orientato o meno), vengono fatte alcune ipotesi:\n",
    "- Se il grafo è **non orientato**, si assume che sia **connesso**; altrimenti si lavora sulla componente connessa più grande.\n",
    "- Se il grafo è **orientato**, si richiede che sia **fortemente connesso**, così da poter calcolare correttamente il **vettore di Perron** e costruire la **Laplaciana simmetrizzata** (secondo l’approccio di Chung).\n",
    "\n",
    "Nel notebook si possono:\n",
    "- caricare grafi da file (in formato `.json`)\n",
    "- scegliere la matrice spettrale da usare\n",
    "- calcolare autovalori e autovettori\n",
    "- visualizzare il grafo in 1D o 2D usando gli autovettori come coordinate\n",
    "\n",
    "Le funzioni sono state organizzate in modo modulare, per poter riutilizzare lo stesso codice con grafi diversi e con diversi tipi di rappresentazione."
   ]
  },
  {
   "cell_type": "markdown",
   "id": "ff0d099a",
   "metadata": {},
   "source": [
    "## <hr style=\"border: 2px solid; margin-top: 15px;\">\n",
    "### __Librerie__"
   ]
  },
  {
   "cell_type": "markdown",
   "id": "95e493c7",
   "metadata": {},
   "source": [
    "_Requisiti_\n",
    "\n",
    "```\n",
    "pip3 install -r requirements.txt\n",
    "```"
   ]
  },
  {
   "cell_type": "code",
   "execution_count": null,
   "id": "4c521205",
   "metadata": {
    "lines_to_next_cell": 1
   },
   "outputs": [],
   "source": [
    "#!pip3 install numpy networkx matplotlib ipympl notebook\n",
    "import numpy as np\n",
    "import json \n",
    "import networkx as nx\n",
    "import matplotlib.pyplot as plt\n",
    "from matplotlib.widgets import Slider\n",
    "from mpl_toolkits.mplot3d import Axes3D\n",
    "%matplotlib widget\n",
    "np.set_printoptions(linewidth=250)"
   ]
  },
  {
   "cell_type": "markdown",
   "id": "c51ea61f",
   "metadata": {},
   "source": [
    "## <hr style=\"border: 2px solid; margin-top: 15px;\">\n",
    "### __Funzioni Ausiliarie__"
   ]
  },
  {
   "cell_type": "markdown",
   "id": "2750b812",
   "metadata": {},
   "source": [
    "### \n",
    "`ensure_connected(G)` si assicura che il grafo sia: \n",
    "1. connesso nel caso dei non orientati \n",
    "2. fortemente connesso nel caso degli orientati"
   ]
  },
  {
   "cell_type": "code",
   "execution_count": null,
   "id": "b8ca5238",
   "metadata": {},
   "outputs": [],
   "source": [
    "def ensure_connected(G):\n",
    "    if G.is_directed():\n",
    "        if not nx.is_strongly_connected(G):\n",
    "            G = G.subgraph(max(nx.strongly_connected_components(G), key=len)).copy()\n",
    "    else:\n",
    "        if not nx.is_connected(G):\n",
    "            G = G.subgraph(max(nx.connected_components(G), key=len)).copy()\n",
    "    mapping = {old: new for new, old in enumerate(sorted(G.nodes()))}\n",
    "    return nx.relabel_nodes(G, mapping)"
   ]
  },
  {
   "cell_type": "markdown",
   "id": "ffc9eb6e",
   "metadata": {},
   "source": [
    "###\n",
    "`compute_directed_eig(G)`\n",
    "\n",
    "1. Estrae da `G` la matrice di adiacenza `A`.  \n",
    "2. Calcola per ogni nodo la somma degli archi in uscita (`degree`).  \n",
    "3. Divide ogni riga di `A` per il grado corrispondente, ottenendo `P` (probabilità di passare da un nodo a un altro).  \n",
    "4. **Autovettore di Perron**: Risolve `P.T * x = x` e ottiene il primo autovettore (`phi`), poi lo normalizza in modo che la somma sia 1.  \n",
    "5. Crea matrici diagonali con la radice quadrata di `phi` (`Phi_sqrt`) e l’inverso della radice quadrata (`Phi_inv_sqrt`).  \n",
    "6. **Matrice Laplaciana**: Crea la matrice Laplaciana: ***L = I - 0.5 • (Phi^1/2 • P • Phi^-1/2 + Phi^-1/2 • P.T • Phi^1/2)***."
   ]
  },
  {
   "cell_type": "code",
   "execution_count": null,
   "id": "bf967958",
   "metadata": {},
   "outputs": [],
   "source": [
    "def compute_directed_eig(G, weight= None):\n",
    "    \n",
    "    A = nx.to_numpy_array(G, weight=weight)\n",
    "    degree = A.sum(axis=1)                       # somma gradi in uscita per ogni nodo\n",
    "    P = A / degree[:, None]                      # ogni riga viene normalizzata per il grado uscente di quel nodo\n",
    "    \n",
    "    # Calcolo del vettore di Perron (distribuzione stazionaria)\n",
    "    eigvals, eigvecs = np.linalg.eig(P.T)\n",
    "    idx = np.argmax(np.isclose(eigvals.real, 1))   # eigenvalue più vicino a 1\n",
    "    phi = np.abs(eigvecs[:, idx].real)             # moduli -> positivo\n",
    "    phi /= phi.sum()                               # normalizza\n",
    "\n",
    "    Phi_sqrt = np.diag(np.sqrt(phi))\n",
    "    Phi_inv_sqrt = np.diag(1 / np.sqrt(phi))\n",
    "\n",
    "    L = np.identity(len(G)) - 0.5 * (Phi_sqrt @ P @ Phi_inv_sqrt + Phi_inv_sqrt @ P.T @ Phi_sqrt)\n",
    "    vals, vecs = np.linalg.eigh(L)\n",
    "    \n",
    "    return vals, np.real(vecs), G"
   ]
  },
  {
   "cell_type": "markdown",
   "id": "471f5ecd",
   "metadata": {},
   "source": [
    "###\n",
    "`compute_eig(G, mat_type)`\n",
    "\n",
    "1. **Connettività**  \n",
    "   Verifica che il grafo sia connesso, con `ensure_connected(G)`.\n",
    "\n",
    "2. **Grafi diretti**  \n",
    "   Se il grafo è diretto e `mat_type == \"laplacian\"`, delega il calcolo a `compute_directed_eig(G)`.\n",
    "\n",
    "3. **Grafi non diretti**  \n",
    "   - **Matrice di adiacenza**: Converte il grafo in una matrice `A`.\n",
    "   - **Vettore dei gradi**: Calcola `degrees` sommando gli archi in ogni riga di `A`.\n",
    "   - **Matrice D**: Crea una matrice diagonale `D` con i gradi.\n",
    "   - **Calcola gli autovettori**: a seconda del `mat_type` scelto calcola gli autovettori della matrice scelta (Laplaciana, Laplaciana normalizzata, Walk matrix, Lazy Walk matrix ecc.)"
   ]
  },
  {
   "cell_type": "code",
   "execution_count": null,
   "id": "3f46cdae",
   "metadata": {},
   "outputs": [],
   "source": [
    "# ----------- Funzioni di calcolo per grafi non diretti -----------\n",
    "# In un grafo non diretto, Laplaciani (normali/normalizzati) sono simmetrici => autovalori reali. \n",
    "# Walk e lazywalk no => possibili parti immaginarie Walk normalizzata si simmetrizza (->autovalori reali)\n",
    "def _laplacian(A, D):\n",
    "    L = D - A\n",
    "    return np.linalg.eigh(L)  # np.linalg.eigh -> matrice simmetrica, autovalori reali\n",
    "\n",
    "def _laplacian_normalized(A, D, D_inv_sqrt):\n",
    "    L = D_inv_sqrt @ (D - A) @ D_inv_sqrt\n",
    "    return np.linalg.eigh(L)\n",
    "\n",
    "def _walk(A, D_inv):\n",
    "    W = A @ D_inv\n",
    "    vals, vecs = np.linalg.eig(W)\n",
    "    return vals, np.real(vecs)  \n",
    "\n",
    "def _lazywalk(A, D_inv, I):\n",
    "    W = A @ D_inv\n",
    "    M = 0.5 * (I + W)\n",
    "    vals, vecs = np.linalg.eig(M)\n",
    "    return vals, np.real(vecs)\n",
    "\n",
    "def _walknorm(A, D_inv, D_inv_sqrt, I):\n",
    "    W = A @ D_inv\n",
    "    M = 0.5 * (I + W)\n",
    "    N = D_inv_sqrt @ M @ D_inv_sqrt\n",
    "    return np.linalg.eigh(N)"
   ]
  },
  {
   "cell_type": "code",
   "execution_count": null,
   "id": "83973fd5",
   "metadata": {},
   "outputs": [],
   "source": [
    "def compute_eig(G, mat_type=\"laplacian\", weight=None):\n",
    "\n",
    "    G = ensure_connected(G)\n",
    "    \n",
    "    # Caso grafo diretto\n",
    "    if G.is_directed():\n",
    "        if mat_type == \"laplacian\":\n",
    "            return compute_directed_eig(G, weight=weight)\n",
    "        else:\n",
    "            raise ValueError(f\"mat_type '{mat_type}' non supportato su grafo diretto\")\n",
    "    \n",
    "    # Qui: G è non diretto\n",
    "    A = nx.to_numpy_array(G, weight=weight)\n",
    "    degrees = A.sum(axis=1)\n",
    "\n",
    "    if np.any(degrees == 0):\n",
    "        raise ValueError(\"Ci sono nodi di grado 0; il grafo non dovrebbe essere connesso?\")\n",
    "\n",
    "    # Matrici di grado\n",
    "    D = np.diag(degrees)\n",
    "    D_inv = np.diag(1 / degrees)\n",
    "    D_inv_sqrt = np.diag(1 / np.sqrt(degrees))\n",
    "    I = np.eye(len(G))\n",
    "    \n",
    "    # Switch dei calcoli\n",
    "    matrix_type_switch = {\n",
    "        \"laplacian\": lambda: _laplacian(A, D),\n",
    "        \"normalized\": lambda: _laplacian_normalized(A, D, D_inv_sqrt),\n",
    "        \"walk\": lambda: _walk(A, D_inv),\n",
    "        \"lazywalk\": lambda: _lazywalk(A, D_inv, I),\n",
    "        \"walknorm\": lambda: _walknorm(A, D_inv, D_inv_sqrt, I)\n",
    "    }\n",
    "    \n",
    "    # Se il tipo non è presente, errore\n",
    "    if mat_type not in matrix_type_switch:\n",
    "        raise ValueError(f\"Tipo di matrice '{mat_type}' non supportato\")\n",
    "    \n",
    "    vals, vecs = matrix_type_switch[mat_type]()\n",
    "\n",
    "    return vals, vecs, G"
   ]
  },
  {
   "cell_type": "markdown",
   "id": "8cf09d01",
   "metadata": {},
   "source": [
    "### Funzioni di Visualizzazione\n",
    "\n",
    "Le tre funzioni seguenti permettono di rappresentare visivamente i grafi sulla base dei loro autovettori spettrali.\n",
    "\n",
    "- `plot_line(G, mat_type, title)` → visualizza un autovettore alla volta (1D)\n",
    "- `plot_2d(G, mat_type, x, y, title)` → visualizza i nodi in 2D usando due autovettori come coordinate, con possibilità di selezionare dinamicamente quali\n",
    "- `plot_3d(G, mat_type, x, y, z, title)` → visualizza i nodi in 3D usando tre autovettori come coordinate, con possibilità di selezionare dinamicamente quali\n",
    "\n",
    "Entrambe le funzioni calcolano internamente la matrice scelta tramite `compute_eig`, e poi disegnano il grafo."
   ]
  },
  {
   "cell_type": "markdown",
   "id": "2e589280",
   "metadata": {},
   "source": [
    "###\n",
    "Plot 1D"
   ]
  },
  {
   "cell_type": "code",
   "execution_count": null,
   "id": "332e8dd7",
   "metadata": {},
   "outputs": [],
   "source": [
    "def plot_line(G, mat_type=\"laplacian\", title=\"\"):\n",
    "    # Calcola autovalori e autovettori\n",
    "    vals, vecs, G = compute_eig(G, mat_type)\n",
    "    \n",
    "    # Crea figura e asse\n",
    "    fig, ax = plt.subplots(figsize=(8,8))\n",
    "    ax.set_title(title)\n",
    "    \n",
    "    # Array degli indici dei nodi (da 0 a n-1)\n",
    "    xdata = np.arange(len(G))\n",
    "    \n",
    "    # Disegna il primo autovettore come linea con marker circolari\n",
    "    line, = ax.plot(xdata, vecs[:, 0], marker='o', markersize=3, linewidth=1)\n",
    "    \n",
    "    # Crea area per lo slider\n",
    "    slider_ax = plt.axes([0.2, 0.05, 0.6, 0.03])\n",
    "    \n",
    "    # Imposta lo slider: varia da 0 a len(G)-1, incremento di 1\n",
    "    slider = Slider(slider_ax, \"k\", 0, len(G)-1, valinit=0, valstep=1)\n",
    "    \n",
    "    # Funzione di callback per aggiornare il grafico\n",
    "    def update(_):\n",
    "        k = int(slider.val)         # Indice selezionato\n",
    "        line.set_ydata(vecs[:, k])  # Aggiorna i dati y con il k-esimo autovettore\n",
    "        ax.relim()                  # Ricalcola i limiti dell'asse\n",
    "        ax.autoscale_view()         # Aggiorna la scala\n",
    "        fig.canvas.draw_idle()      # Ridisegna la figura\n",
    "        \n",
    "    slider.on_changed(update)\n",
    "    \n",
    "    # Ritorna la figura, l'asse, lo slider, gli autovalori, gli autovettori e il grafo aggiornato\n",
    "    return fig, ax, slider, vals, vecs"
   ]
  },
  {
   "cell_type": "markdown",
   "id": "6c6f0164",
   "metadata": {},
   "source": [
    "###\n",
    "Plot 2D"
   ]
  },
  {
   "cell_type": "code",
   "execution_count": null,
   "id": "95504b8b",
   "metadata": {},
   "outputs": [],
   "source": [
    "def plot_2d(G, mat_type=\"laplacian\", x=0, y=1, title=\"\", weight=None):\n",
    "    # Calcola autovalori e autovettori, eventualmente considerando i pesi\n",
    "    vals, vecs, G = compute_eig(G, mat_type, weight=weight)\n",
    "    \n",
    "    # Crea figura e asse\n",
    "    fig, ax = plt.subplots(figsize=(8,8))\n",
    "    ax.set_title(title)\n",
    "    \n",
    "    # Calcola le posizioni dei nodi basate sugli autovettori scelti per le coordinate x e y\n",
    "    pos = {i: (vecs[i, x], vecs[i, y]) for i in range(len(G))}\n",
    "    nx.draw(G, pos=pos, with_labels=True, ax=ax, font_size=3,\n",
    "            node_size=70, node_color=\"skyblue\", arrows=True, arrowsize=7,\n",
    "            edge_color=\"gray\", width=0.15)\n",
    "    \n",
    "    # Crea le aree per gli slider\n",
    "    sx_ax = plt.axes([0.2, 0.08, 0.65, 0.03])\n",
    "    sy_ax = plt.axes([0.2, 0.03, 0.65, 0.03])\n",
    "    \n",
    "    # Crea gli slider per selezionare gli indici degli autovettori da usare per X e Y\n",
    "    sx = Slider(sx_ax, \"X\", 0, len(G)-1, valinit=x, valstep=1)\n",
    "    sy = Slider(sy_ax, \"Y\", 0, len(G)-1, valinit=y, valstep=1)\n",
    "    \n",
    "    # Callback per aggiornare la visualizzazione\n",
    "    def update(_):\n",
    "        ax.clear()\n",
    "        xx = int(sx.val)\n",
    "        yy = int(sy.val)\n",
    "        new_pos = {i: (vecs[i, xx], vecs[i, yy]) for i in range(len(G))}\n",
    "        nx.draw(G, pos=new_pos, with_labels=True, ax=ax, font_size=3,\n",
    "                node_size=50, node_color=\"skyblue\", arrows=True, arrowsize=7,\n",
    "                edge_color=\"gray\", width=0.15)\n",
    "        ax.set_title(title)\n",
    "        fig.canvas.draw_idle()\n",
    "    \n",
    "    sx.on_changed(update)\n",
    "    sy.on_changed(update)\n",
    "    \n",
    "    # Ritorna la figura, l'asse, gli slider e gli autovalori/autovettori\n",
    "    return fig, ax, (sx, sy), vals, vecs"
   ]
  },
  {
   "cell_type": "markdown",
   "id": "75c87e0b",
   "metadata": {},
   "source": [
    "### \n",
    "Plot 3D"
   ]
  },
  {
   "cell_type": "code",
   "execution_count": null,
   "id": "c295d9f2",
   "metadata": {},
   "outputs": [],
   "source": [
    "def plot_3d(G, mat_type=\"laplacian\", x=0, y=1, z=2, title=\"\"):\n",
    "   \n",
    "    vals, vecs, G = compute_eig(G, mat_type)\n",
    "    \n",
    "    \n",
    "    fig = plt.figure(figsize=(8,8))\n",
    "    ax = fig.add_subplot(111, projection='3d')\n",
    "    ax.set_title(title)\n",
    "    \n",
    "   \n",
    "    xs = vecs[:, x]\n",
    "    ys = vecs[:, y]\n",
    "    zs = vecs[:, z]\n",
    "    \n",
    "    # Disegno nodi\n",
    "    scat = ax.scatter(xs, ys, zs, c='skyblue', s=50, edgecolors='k', depthshade=True)\n",
    "    \n",
    "    # Disegno archi\n",
    "    lines_dict = {}\n",
    "    for (u, v) in G.edges():\n",
    "        xx = [xs[u], xs[v]]\n",
    "        yy = [ys[u], ys[v]]\n",
    "        zz = [zs[u], zs[v]]\n",
    "        ln = ax.plot(xx, yy, zz, color='gray', linewidth=0.5)[0]\n",
    "        lines_dict[(u, v)] = ln\n",
    "    \n",
    "    ax.set_xlabel(\"Autovettore X\")\n",
    "    ax.set_ylabel(\"Autovettore Y\")\n",
    "    ax.set_zlabel(\"Autovettore Z\")\n",
    "\n",
    "    \n",
    "    text_labels = []\n",
    "\n",
    "    # Funzione che pulisce i label\n",
    "    def clear_labels():\n",
    "        for lbl in text_labels:\n",
    "            lbl.remove()  # elimina l'oggetto text dallo axes\n",
    "        text_labels.clear()\n",
    "\n",
    "    for i in range(len(G)):\n",
    "        lbl = ax.text(xs[i], ys[i], zs[i], s=str(i), size=3, color=\"black\")\n",
    "        text_labels.append(lbl)\n",
    "    \n",
    "    Slider\n",
    "    slider_ax_x = plt.axes([0.15, 0.07, 0.65, 0.03])\n",
    "    slider_ax_y = plt.axes([0.15, 0.04, 0.65, 0.03])\n",
    "    slider_ax_z = plt.axes([0.15, 0.01, 0.65, 0.03])\n",
    "    \n",
    "    x_slider = Slider(slider_ax_x, \"X\", 0, len(G)-1, valinit=x, valstep=1)\n",
    "    y_slider = Slider(slider_ax_y, \"Y\", 0, len(G)-1, valinit=y, valstep=1)\n",
    "    z_slider = Slider(slider_ax_z, \"Z\", 0, len(G)-1, valinit=z, valstep=1)\n",
    "    \n",
    "    def update(_):\n",
    "        xx = int(x_slider.val)\n",
    "        yy = int(y_slider.val)\n",
    "        zz = int(z_slider.val)\n",
    "        \n",
    "        xs_new = vecs[:, xx]\n",
    "        ys_new = vecs[:, yy]\n",
    "        zs_new = vecs[:, zz]\n",
    "\n",
    "        # Aggiorna scatter\n",
    "        scat._offsets3d = (xs_new, ys_new, zs_new)\n",
    "        \n",
    "        # Aggiorna archi\n",
    "        for (u, v), line3d in lines_dict.items():\n",
    "            line3d.set_xdata([xs_new[u], xs_new[v]])\n",
    "            line3d.set_ydata([ys_new[u], ys_new[v]])\n",
    "            line3d.set_3d_properties([zs_new[u], zs_new[v]])\n",
    "        \n",
    "        # Riposiziona label: prima rimuoviamo i vecchi, poi li ricostruiamo\n",
    "        clear_labels()\n",
    "        for i in range(len(G)):\n",
    "            lbl = ax.text(xs_new[i], ys_new[i], zs_new[i], s=str(i), size=3, color=\"black\")\n",
    "            text_labels.append(lbl)\n",
    "\n",
    "        fig.canvas.draw_idle()\n",
    "    \n",
    "    x_slider.on_changed(update)\n",
    "    y_slider.on_changed(update)\n",
    "    z_slider.on_changed(update)\n",
    "    \n",
    "    plt.show()\n",
    "    \n",
    "    return fig, ax, (x_slider, y_slider, z_slider), vals, vecs"
   ]
  },
  {
   "cell_type": "markdown",
   "id": "df9eeadf",
   "metadata": {},
   "source": [
    "### \n",
    "`plot_from_file(path, mat_type, mode, x, y, z, title)`\n",
    "\n",
    "**Carica un grafo da file `.json` e richiama automaticamente la visualizzazione spettrale.**  \n",
    "Permette di selezionare il tipo di matrice (`laplacian`, `normalized`, ecc.) e se visualizzarlo in 1D, 2D, 3D (tramite `mode=\"1d\"`, `mode=\"2d\"` o `mode=\"3d\"`).  \n",
    "Richiede solo il nome del file del grafo, nel formato node-link."
   ]
  },
  {
   "cell_type": "code",
   "execution_count": null,
   "id": "07e93465",
   "metadata": {},
   "outputs": [],
   "source": [
    "def plot_from_file(path, mat_type=\"laplacian\", mode=\"2d\", x=None, y=None, z=None, title=None, weight=None):\n",
    "    with open(path) as f:\n",
    "        data = json.load(f)\n",
    "    G = nx.node_link_graph(data)\n",
    "\n",
    "    if mode == \"3d\":\n",
    "        return plot_3d(G, mat_type=mat_type, x=x, y=y, z=z, title=title)\n",
    "    if mode == \"2d\":\n",
    "        return plot_2d(G, mat_type=mat_type, x=x, y=y, title=title, weight=weight)\n",
    "    elif mode == \"1d\":\n",
    "        return plot_line(G, mat_type=mat_type, title=title)"
   ]
  },
  {
   "cell_type": "markdown",
   "id": "e00251e9",
   "metadata": {},
   "source": [
    "## <hr style=\"border: 2px solid; margin-top: 15px;\">\n",
    "###  __Esempi di utilizzo__\n",
    "\n",
    "In questa sezione vengono mostrati alcuni esempi pratici di visualizzazione spettrale su grafi semplici e complessi.\n",
    "\n",
    "L’obiettivo è verificare come le varie matrici (Laplaciana, normalizzata, walk matrix, ecc.) influenzano la rappresentazione dei nodi nel piano.\n",
    "\n",
    "Gli esempi sono divisi per tipologia:\n",
    "- Grafi noti e regolari (cammino, dodecaedro, griglia)\n",
    "- Grafi casuali non orientati e orientati\n",
    "- Grafi caricati da file `.json`"
   ]
  },
  {
   "cell_type": "markdown",
   "id": "dd774c6e",
   "metadata": {},
   "source": [
    "### 1. Cammino di 12 nodi\n",
    "\n",
    "Costruzione di un cammino (path) di 12 nodi. Viene visualizzato un grafico a linea degli autovettori con uno slider per selezionare l’indice k."
   ]
  },
  {
   "cell_type": "code",
   "execution_count": null,
   "id": "0aed26f7",
   "metadata": {},
   "outputs": [],
   "source": [
    "G1 = nx.path_graph(12)\n",
    "fig, ax, slider, vals, vecs = plot_line(G1, mat_type=\"laplacian\", title=\"Cammino di 12 nodi\")\n",
    "# plt.close(fig)"
   ]
  },
  {
   "cell_type": "markdown",
   "id": "72ee1f35",
   "metadata": {},
   "source": [
    "### 2. Dodecaedro\n",
    "\n",
    "Visualizzazione del dodecaedro usando la matrice Laplaciana."
   ]
  },
  {
   "cell_type": "code",
   "execution_count": null,
   "id": "9a2921ea",
   "metadata": {},
   "outputs": [],
   "source": [
    "G2 = nx.dodecahedral_graph()\n",
    "fig, ax, slider, vals, vecs = plot_3d(G2, mat_type=\"laplacian\", x=1, y=2, z=3, title=\"Dodecaedro\")"
   ]
  },
  {
   "cell_type": "markdown",
   "id": "ce2015bf",
   "metadata": {},
   "source": [
    "### 3. Grafi non orientati"
   ]
  },
  {
   "cell_type": "markdown",
   "id": "199de3eb",
   "metadata": {},
   "source": [
    "#### \n",
    "3.1 Albero Casuale\n",
    "\n",
    "Visualizzazione di un albero casuale con la Laplaciana."
   ]
  },
  {
   "cell_type": "code",
   "execution_count": null,
   "id": "a6ed3448",
   "metadata": {},
   "outputs": [],
   "source": [
    "G3 = nx.random_tree(20)\n",
    "fig, ax, slider, vals, vecs = plot_2d(G3, \"laplacian\", 1, 2, \"Albero casuale\")"
   ]
  },
  {
   "cell_type": "code",
   "execution_count": null,
   "id": "06a2acc4",
   "metadata": {},
   "outputs": [],
   "source": [
    "fig, ax, slider, vals, vecs = plot_3d(G3, \"laplacian\", 1, 2, 3, \"Albero casuale\")"
   ]
  },
  {
   "cell_type": "markdown",
   "id": "5e440bfe",
   "metadata": {},
   "source": [
    "#### \n",
    "3.2 Grafo Non Orientato Casuale\n",
    "\n",
    "Genera un grafo casuale con 20 nodi e 30 archi (assicurandosi che sia connesso) e lo visualizza con la Laplaciana normalizzata."
   ]
  },
  {
   "cell_type": "code",
   "execution_count": null,
   "id": "e0c60cae",
   "metadata": {},
   "outputs": [],
   "source": [
    "n = 15\n",
    "m = 25\n",
    "while True:\n",
    "    G4 = nx.gnm_random_graph(n, m)\n",
    "    if nx.is_connected(G4):\n",
    "        break\n",
    "fig, ax, slider, vals, vecs = plot_2d(G4, \"normalized\", 1, 2)"
   ]
  },
  {
   "cell_type": "code",
   "execution_count": null,
   "id": "c932c5bf",
   "metadata": {},
   "outputs": [],
   "source": [
    "fig, ax, slider, vals, vecs = plot_3d(G4, \"normalized\", 1, 2, 3)"
   ]
  },
  {
   "cell_type": "markdown",
   "id": "3eadff79",
   "metadata": {},
   "source": [
    "#### \n",
    "3.3 Griglia 4x4"
   ]
  },
  {
   "cell_type": "code",
   "execution_count": null,
   "id": "dcbf54fb",
   "metadata": {},
   "outputs": [],
   "source": [
    "G6 = nx.grid_2d_graph(4, 4)   # Crea una griglia 4x4\n",
    "G6 = nx.convert_node_labels_to_integers(G6)  # Rinomina i nodi in interi consecutivi\n",
    "fig, ax, slider, vals, vecs = plot_2d(G6, \"laplacian\", 1, 2, \"Grid Graph\")"
   ]
  },
  {
   "cell_type": "code",
   "execution_count": null,
   "id": "7a02a088",
   "metadata": {},
   "outputs": [],
   "source": [
    "fig, ax, slider, vals, vecs = plot_3d(G6, \"laplacian\", 1, 2, 3, \"Grid Graph\")"
   ]
  },
  {
   "cell_type": "markdown",
   "id": "b3d89124",
   "metadata": {},
   "source": [
    "####\n",
    "3.4 Cubo"
   ]
  },
  {
   "cell_type": "code",
   "execution_count": null,
   "id": "199fa52f",
   "metadata": {},
   "outputs": [],
   "source": [
    "G7 = nx.cubical_graph()\n",
    "fig, ax, slider, vals, vecs = plot_3d(G7, \"laplacian\", 1, 2, 3, \"Cubo\")"
   ]
  },
  {
   "cell_type": "markdown",
   "id": "51d175f5",
   "metadata": {},
   "source": [
    "####\n",
    "3.5 Ipercubo"
   ]
  },
  {
   "cell_type": "code",
   "execution_count": null,
   "id": "b93e2ec6",
   "metadata": {},
   "outputs": [],
   "source": [
    "G8 = nx.hypercube_graph(4)\n",
    "fig, ax, slider, vals, vecs = plot_2d(G8, \"walknorm\", 1, 2, \"Ipercubo\")"
   ]
  },
  {
   "cell_type": "code",
   "execution_count": null,
   "id": "3c0c5ac4",
   "metadata": {},
   "outputs": [],
   "source": [
    "fig, ax, slider, vals, vecs = plot_3d(G8, \"normalized\", 1, 2, 3, \"Ipercubo\")"
   ]
  },
  {
   "cell_type": "markdown",
   "id": "8f64f1b1",
   "metadata": {},
   "source": [
    "####\n",
    "3.6 Grafo Casuale Regolare"
   ]
  },
  {
   "cell_type": "code",
   "execution_count": null,
   "id": "36cf80c8",
   "metadata": {},
   "outputs": [],
   "source": [
    "G9 = nx.random_regular_graph(d=4, n=20)\n",
    "fig, ax, slider, vals, vecs = plot_2d(G9, \"normalized\", 1, 2, \"Grafo casuale regolare\")"
   ]
  },
  {
   "cell_type": "markdown",
   "id": "5047f3ac",
   "metadata": {},
   "source": [
    "### 4. Grafi orientati\n",
    "\n",
    "Per grafi orientati viene usata la procedura con P e il vettore di Perron per calcolare la Laplaciana simmetrica."
   ]
  },
  {
   "cell_type": "code",
   "execution_count": null,
   "id": "10a287b9",
   "metadata": {},
   "outputs": [],
   "source": [
    "G5 = nx.gnp_random_graph(30, 0.3, directed=True)\n",
    "fig, ax, slider, vals, vecs = plot_2d(G5, \"laplacian\", 1, 2)"
   ]
  },
  {
   "cell_type": "markdown",
   "id": "257d59f5",
   "metadata": {},
   "source": [
    "### 5. Caricamento con JSON\n",
    "Il grafo del logo di Yale mantiene una struttura regolare e simmetrica."
   ]
  },
  {
   "cell_type": "code",
   "execution_count": null,
   "id": "e8cb9b5f",
   "metadata": {},
   "outputs": [],
   "source": [
    "fig, ax, _, _, _ = plot_from_file(\"graphs/yale_graph.json\", mat_type=\"laplacian\", mode=\"2d\", x=1, y=2, weight=\"weight\")       "
   ]
  },
  {
   "cell_type": "code",
   "execution_count": null,
   "id": "bf5534b4",
   "metadata": {},
   "outputs": [],
   "source": [
    "fig, ax, slider, vals, vecs = plot_from_file(\"graphs/yale_graph.json\", \"laplacian\", mode=\"3d\", x=1, y=2, z=3, weight=\"weight\")"
   ]
  }
 ],
 "metadata": {
  "jupytext": {
   "cell_metadata_filter": "-all",
   "main_language": "python",
   "notebook_metadata_filter": "-all"
  },
  "kernelspec": {
   "display_name": "Python 3",
   "language": "python",
   "name": "python3"
  },
  "language_info": {
   "codemirror_mode": {
    "name": "ipython",
    "version": 3
   },
   "file_extension": ".py",
   "mimetype": "text/x-python",
   "name": "python",
   "nbconvert_exporter": "python",
   "pygments_lexer": "ipython3",
   "version": "3.9.6"
  }
 },
 "nbformat": 4,
 "nbformat_minor": 5
}
