{
 "cells": [
  {
   "cell_type": "markdown",
   "id": "8ed3351a",
   "metadata": {},
   "source": [
    "# __Tesi di Laurea – Visualizzazione spettrale dei grafi__\n",
    "\n",
    "L’obiettivo è usare l'algebra spettrale per rappresentare graficamente la struttura di un grafo, sfruttando le informazioni che si ottengono dagli autovettori delle principali matrici associate al grafo (Laplaciana, normalizzata, Walk matrix, ecc.).\n",
    "\n",
    "A seconda del tipo di grafo (orientato o meno), vengono fatte alcune ipotesi:\n",
    "- Se il grafo è **non orientato**, si assume che sia **connesso**; altrimenti si lavora sulla componente connessa più grande.\n",
    "- Se il grafo è **orientato**, si richiede che sia **fortemente connesso**, così da poter calcolare correttamente il **vettore di Perron** e costruire la **Laplaciana simmetrizzata** (secondo l’approccio di Chung).\n",
    "\n",
    "Nel notebook si possono:\n",
    "- caricare grafi da file (in formato `.json`)\n",
    "- scegliere la matrice spettrale da usare\n",
    "- calcolare autovalori e autovettori\n",
    "- visualizzare il grafo in 1D o 2D usando gli autovettori come coordinate\n",
    "\n",
    "Le funzioni sono state organizzate in modo modulare, per poter riutilizzare lo stesso codice con grafi diversi e con diversi tipi di rappresentazione."
   ]
  },
  {
   "cell_type": "markdown",
   "id": "ff0d099a",
   "metadata": {},
   "source": [
    "## <hr style=\"border: 2px solid; margin-top: 15px;\">\n",
    "### __Librerie__"
   ]
  },
  {
   "cell_type": "markdown",
   "id": "95e493c7",
   "metadata": {},
   "source": [
    "_Requisiti_\n",
    "\n",
    "```\n",
    "pip3 install -r requirements.txt\n",
    "```"
   ]
  },
  {
   "cell_type": "code",
   "execution_count": null,
   "id": "4c521205",
   "metadata": {
    "lines_to_next_cell": 1
   },
   "outputs": [],
   "source": [
    "#!pip3 install numpy networkx matplotlib ipympl notebook\n",
    "import numpy as np\n",
    "import visua\n",
    "import networkx as nx\n",
    "%matplotlib widget\n",
    "np.set_printoptions(linewidth=250)"
   ]
  },
  {
   "cell_type": "markdown",
   "id": "c51ea61f",
   "metadata": {},
   "source": [
    "## <hr style=\"border: 2px solid; margin-top: 15px;\">\n",
    "### __Funzioni Ausiliarie__"
   ]
  },
  {
   "cell_type": "markdown",
   "id": "2750b812",
   "metadata": {},
   "source": [
    "### \n",
    "`ensure_connected(G)` si assicura che il grafo sia: \n",
    "1. connesso nel caso dei non orientati \n",
    "2. fortemente connesso nel caso degli orientati"
   ]
  },
  {
   "cell_type": "markdown",
   "id": "ffc9eb6e",
   "metadata": {},
   "source": [
    "###\n",
    "`compute_directed_eig(G)`\n",
    "\n",
    "1. Estrae da `G` la matrice di adiacenza `A`.  \n",
    "2. Calcola per ogni nodo la somma degli archi in uscita (`degree`).  \n",
    "3. Divide ogni riga di `A` per il grado corrispondente, ottenendo `P` (probabilità di passare da un nodo a un altro).  \n",
    "4. **Autovettore di Perron**: Risolve `P.T * x = x` e ottiene il primo autovettore (`phi`), poi lo normalizza in modo che la somma sia 1.  \n",
    "5. Crea matrici diagonali con la radice quadrata di `phi` (`Phi_sqrt`) e l’inverso della radice quadrata (`Phi_inv_sqrt`).  \n",
    "6. **Matrice Laplaciana**: Crea la matrice Laplaciana: ***L = I - 0.5 • (Phi^1/2 • P • Phi^-1/2 + Phi^-1/2 • P.T • Phi^1/2)***."
   ]
  },
  {
   "cell_type": "markdown",
   "id": "471f5ecd",
   "metadata": {},
   "source": [
    "###\n",
    "`compute_eig(G, mat_type)`\n",
    "\n",
    "1. **Connettività**  \n",
    "   Verifica che il grafo sia connesso, con `ensure_connected(G)`.\n",
    "\n",
    "2. **Grafi diretti**  \n",
    "   Se il grafo è diretto e `mat_type == \"laplacian\"`, delega il calcolo a `compute_directed_eig(G)`.\n",
    "\n",
    "3. **Grafi non diretti**  \n",
    "   - **Matrice di adiacenza**: Converte il grafo in una matrice `A`.\n",
    "   - **Vettore dei gradi**: Calcola `degrees` sommando gli archi in ogni riga di `A`.\n",
    "   - **Matrice D**: Crea una matrice diagonale `D` con i gradi.\n",
    "   - **Calcola gli autovettori**: a seconda del `mat_type` scelto calcola gli autovettori della matrice scelta (Laplaciana, Laplaciana normalizzata, Walk matrix, Lazy Walk matrix ecc.)"
   ]
  },
  {
   "cell_type": "markdown",
   "id": "8cf09d01",
   "metadata": {},
   "source": [
    "### Funzioni di Visualizzazione\n",
    "\n",
    "Le tre funzioni seguenti permettono di rappresentare visivamente i grafi sulla base dei loro autovettori spettrali.\n",
    "\n",
    "- `plot_line(G, mat_type, title)` → visualizza un autovettore alla volta (1D)\n",
    "- `plot_2d(G, mat_type, x, y, title)` → visualizza i nodi in 2D usando due autovettori come coordinate, con possibilità di selezionare dinamicamente quali\n",
    "- `plot_3d(G, mat_type, x, y, z, title)` → visualizza i nodi in 3D usando tre autovettori come coordinate, con possibilità di selezionare dinamicamente quali\n",
    "\n",
    "Entrambe le funzioni calcolano internamente la matrice scelta tramite `compute_eig`, e poi disegnano il grafo."
   ]
  },
  {
   "cell_type": "markdown",
   "id": "df9eeadf",
   "metadata": {},
   "source": [
    "### \n",
    "`plot_from_file(path, mat_type, mode, x, y, z, title)`\n",
    "\n",
    "**Carica un grafo da file `.json` e richiama automaticamente la visualizzazione spettrale.**  \n",
    "Permette di selezionare il tipo di matrice (`laplacian`, `normalized`, ecc.) e se visualizzarlo in 1D, 2D, 3D (tramite `mode=\"1d\"`, `mode=\"2d\"` o `mode=\"3d\"`).  \n",
    "Richiede solo il nome del file del grafo, nel formato node-link."
   ]
  },
  {
   "cell_type": "markdown",
   "id": "e00251e9",
   "metadata": {},
   "source": [
    "## <hr style=\"border: 2px solid; margin-top: 15px;\">\n",
    "###  __Esempi di utilizzo__\n",
    "\n",
    "In questa sezione vengono mostrati alcuni esempi pratici di visualizzazione spettrale su grafi semplici e complessi.\n",
    "\n",
    "L’obiettivo è verificare come le varie matrici (Laplaciana, normalizzata, walk matrix, ecc.) influenzano la rappresentazione dei nodi nel piano.\n",
    "\n",
    "Gli esempi sono divisi per tipologia:\n",
    "- Grafi noti e regolari (cammino, dodecaedro, griglia)\n",
    "- Grafi casuali non orientati e orientati\n",
    "- Grafi caricati da file `.json`"
   ]
  },
  {
   "cell_type": "markdown",
   "id": "dd774c6e",
   "metadata": {},
   "source": [
    "### 1. Cammino di 12 nodi\n",
    "\n",
    "Costruzione di un cammino (path) di 12 nodi. Viene visualizzato un grafico a linea degli autovettori con uno slider per selezionare l’indice k."
   ]
  },
  {
   "cell_type": "code",
   "execution_count": null,
   "id": "0aed26f7",
   "metadata": {},
   "outputs": [],
   "source": [
    "G1 = nx.path_graph(12)\n",
    "fig, ax, slider, vals, vecs = visua.plot_line(G1, mat_type=\"laplacian\", title=\"Cammino di 12 nodi\")\n",
    "# plt.close(fig)"
   ]
  },
  {
   "cell_type": "markdown",
   "id": "72ee1f35",
   "metadata": {},
   "source": [
    "### 2. Dodecaedro\n",
    "\n",
    "Visualizzazione del dodecaedro usando la matrice Laplaciana."
   ]
  },
  {
   "cell_type": "code",
   "execution_count": null,
   "id": "9a2921ea",
   "metadata": {},
   "outputs": [],
   "source": [
    "G2 = nx.dodecahedral_graph()\n",
    "fig, ax, slider, vals, vecs = visua.plot_3d(G2, mat_type=\"laplacian\", x=1, y=2, z=3, title=\"Dodecaedro\")"
   ]
  },
  {
   "cell_type": "markdown",
   "id": "ce2015bf",
   "metadata": {},
   "source": [
    "### 3. Grafi non orientati"
   ]
  },
  {
   "cell_type": "markdown",
   "id": "199de3eb",
   "metadata": {},
   "source": [
    "#### \n",
    "3.1 Albero Casuale\n",
    "\n",
    "Visualizzazione di un albero casuale con la Laplaciana."
   ]
  },
  {
   "cell_type": "code",
   "execution_count": null,
   "id": "a6ed3448",
   "metadata": {},
   "outputs": [],
   "source": [
    "G3 = nx.random_tree(20)\n",
    "fig, ax, slider, vals, vecs = visua.plot_2d(G3, \"laplacian\", 1, 2, \"Albero casuale\")"
   ]
  },
  {
   "cell_type": "code",
   "execution_count": null,
   "id": "06a2acc4",
   "metadata": {},
   "outputs": [],
   "source": [
    "fig, ax, slider, vals, vecs = visua.plot_2d(G3, \"laplacian\", 1, 2, 3, \"Albero casuale\")"
   ]
  },
  {
   "cell_type": "markdown",
   "id": "5e440bfe",
   "metadata": {},
   "source": [
    "#### \n",
    "3.2 Grafo Non Orientato Casuale\n",
    "\n",
    "Genera un grafo casuale con 20 nodi e 30 archi (assicurandosi che sia connesso) e lo visualizza con la Laplaciana normalizzata."
   ]
  },
  {
   "cell_type": "code",
   "execution_count": null,
   "id": "e0c60cae",
   "metadata": {},
   "outputs": [],
   "source": [
    "n = 15\n",
    "m = 25\n",
    "while True:\n",
    "    G4 = nx.gnm_random_graph(n, m)\n",
    "    if nx.is_connected(G4):\n",
    "        break\n",
    "fig, ax, slider, vals, vecs = visua.plot_2d(G4, \"normalized\", 1, 2)"
   ]
  },
  {
   "cell_type": "code",
   "execution_count": null,
   "id": "c932c5bf",
   "metadata": {},
   "outputs": [],
   "source": [
    "fig, ax, slider, vals, vecs = visua.plot_3d(G4, \"normalized\", 1, 2, 3)"
   ]
  },
  {
   "cell_type": "markdown",
   "id": "3eadff79",
   "metadata": {},
   "source": [
    "#### \n",
    "3.3 Griglia 4x4"
   ]
  },
  {
   "cell_type": "code",
   "execution_count": null,
   "id": "dcbf54fb",
   "metadata": {},
   "outputs": [],
   "source": [
    "G6 = nx.grid_2d_graph(4, 4)   # Crea una griglia 4x4\n",
    "G6 = nx.convert_node_labels_to_integers(G6)  # Rinomina i nodi in interi consecutivi\n",
    "fig, ax, slider, vals, vecs = visua.plot_2d(G6, \"laplacian\", 1, 2, \"Grid Graph\")"
   ]
  },
  {
   "cell_type": "code",
   "execution_count": null,
   "id": "7a02a088",
   "metadata": {},
   "outputs": [],
   "source": [
    "fig, ax, slider, vals, vecs = visua.plot_3d(G6, \"laplacian\", 1, 2, 3, \"Grid Graph\")"
   ]
  },
  {
   "cell_type": "markdown",
   "id": "b3d89124",
   "metadata": {},
   "source": [
    "####\n",
    "3.4 Cubo"
   ]
  },
  {
   "cell_type": "code",
   "execution_count": null,
   "id": "199fa52f",
   "metadata": {},
   "outputs": [],
   "source": [
    "G7 = nx.cubical_graph()\n",
    "fig, ax, slider, vals, vecs = visua.plot_3d(G7, \"laplacian\", 1, 2, 3, \"Cubo\")"
   ]
  },
  {
   "cell_type": "markdown",
   "id": "51d175f5",
   "metadata": {},
   "source": [
    "####\n",
    "3.5 Ipercubo"
   ]
  },
  {
   "cell_type": "code",
   "execution_count": null,
   "id": "b93e2ec6",
   "metadata": {},
   "outputs": [],
   "source": [
    "G8 = nx.hypercube_graph(4)\n",
    "fig, ax, slider, vals, vecs = visua.plot_2d(G8, \"walknorm\", 1, 2, \"Ipercubo\")"
   ]
  },
  {
   "cell_type": "code",
   "execution_count": null,
   "id": "3c0c5ac4",
   "metadata": {},
   "outputs": [],
   "source": [
    "fig, ax, slider, vals, vecs = visua.plot_3d(G8, \"normalized\", 1, 2, 3, \"Ipercubo\")"
   ]
  },
  {
   "cell_type": "markdown",
   "id": "8f64f1b1",
   "metadata": {},
   "source": [
    "####\n",
    "3.6 Grafo Casuale Regolare"
   ]
  },
  {
   "cell_type": "code",
   "execution_count": null,
   "id": "36cf80c8",
   "metadata": {},
   "outputs": [],
   "source": [
    "G9 = nx.random_regular_graph(d=4, n=20)\n",
    "fig, ax, slider, vals, vecs = visua.plot_2d(G9, \"normalized\", 1, 2, \"Grafo casuale regolare\")"
   ]
  },
  {
   "cell_type": "markdown",
   "id": "5047f3ac",
   "metadata": {},
   "source": [
    "### 4. Grafi orientati\n",
    "\n",
    "Per grafi orientati viene usata la procedura con P e il vettore di Perron per calcolare la Laplaciana simmetrica."
   ]
  },
  {
   "cell_type": "code",
   "execution_count": null,
   "id": "10a287b9",
   "metadata": {},
   "outputs": [],
   "source": [
    "G5 = nx.gnp_random_graph(30, 0.3, directed=True)\n",
    "fig, ax, slider, vals, vecs = visua.plot_2d(G5, \"laplacian\", 1, 2)"
   ]
  },
  {
   "cell_type": "markdown",
   "id": "257d59f5",
   "metadata": {},
   "source": [
    "### 5. Caricamento con JSON\n",
    "Il grafo del logo di Yale mantiene una struttura regolare e simmetrica."
   ]
  },
  {
   "cell_type": "code",
   "execution_count": null,
   "id": "e8cb9b5f",
   "metadata": {},
   "outputs": [],
   "source": [
    "fig, ax, _, _, _ = visua.plot_from_file(\"graphs/yale_graph.json\", mat_type=\"laplacian\", mode=\"2d\", x=1, y=2, weight=\"weight\")       "
   ]
  },
  {
   "cell_type": "code",
   "execution_count": null,
   "id": "bf5534b4",
   "metadata": {},
   "outputs": [],
   "source": [
    "fig, ax, slider, vals, vecs = visua.plot_from_file(\"graphs/yale_graph.json\", \"laplacian\", mode=\"3d\", x=1, y=2, z=3, weight=\"weight\")"
   ]
  }
 ],
 "metadata": {
  "jupytext": {
   "cell_metadata_filter": "-all",
   "main_language": "python",
   "notebook_metadata_filter": "-all"
  },
  "kernelspec": {
   "display_name": "Python 3",
   "language": "python",
   "name": "python3"
  },
  "language_info": {
   "codemirror_mode": {
    "name": "ipython",
    "version": 3
   },
   "file_extension": ".py",
   "mimetype": "text/x-python",
   "name": "python",
   "nbconvert_exporter": "python",
   "pygments_lexer": "ipython3",
   "version": "3.9.6"
  }
 },
 "nbformat": 4,
 "nbformat_minor": 5
}
