{
 "cells": [
  {
   "cell_type": "markdown",
   "id": "55947bb3",
   "metadata": {},
   "source": [
    "# `Studio reversibilità catene P e catene Q`"
   ]
  },
  {
   "cell_type": "markdown",
   "id": "11fd08a6",
   "metadata": {},
   "source": [
    "## `Librerie`"
   ]
  },
  {
   "cell_type": "code",
   "execution_count": null,
   "id": "45446950",
   "metadata": {},
   "outputs": [],
   "source": [
    "import generazione_catene, metodi_stazionaria, check, utility\n",
    "import matplotlib.pyplot as plt\n",
    "import matplotlib.ticker as ticker"
   ]
  },
  {
   "cell_type": "markdown",
   "id": "31bbd785",
   "metadata": {},
   "source": [
    "## `Test Reversibilità`"
   ]
  },
  {
   "cell_type": "markdown",
   "id": "8bb2e922",
   "metadata": {},
   "source": [
    "### Confronto tra mio metodo e `pydctm`\n",
    "Confrontiamo la correttezza di reversibilità tra il nostro metodo e quello interno alla libreria `pydctm`"
   ]
  },
  {
   "cell_type": "code",
   "execution_count": null,
   "id": "cbf1e3f0",
   "metadata": {},
   "outputs": [],
   "source": [
    "check.test_confronto_reversibilita(n_matrici=100, n=100)"
   ]
  },
  {
   "cell_type": "markdown",
   "id": "a5837084",
   "metadata": {},
   "source": [
    "#### Ora confrontiamo i tempi per il controllo della reversibilità e confrontiamo il nostro metodo e quello di `pydctm`"
   ]
  },
  {
   "cell_type": "code",
   "execution_count": null,
   "id": "4154f585",
   "metadata": {},
   "outputs": [],
   "source": [
    "# Testa nostro metodo su P reversibili\n",
    "ris_nostro = check.calcola_tempi(\"nostro\", C=1000, n_punti=50, n_matrici=100)\n",
    "\n",
    "# Testa PyDTMC su P reversibili\n",
    "ris_pydtmc = check.calcola_tempi(\"pydtmc\", C=100, n_punti=50, n_matrici=100)"
   ]
  },
  {
   "cell_type": "code",
   "execution_count": null,
   "id": "ec30da54",
   "metadata": {},
   "outputs": [],
   "source": [
    "# Grafico\n",
    "fig, ax = plt.subplots(figsize=(18,10))\n",
    "ax.plot([r[0] for r in ris_nostro], [r[1] for r in ris_nostro], 'o-', label=\"Nostro check\")\n",
    "ax.plot([r[0] for r in ris_pydtmc], [r[1] for r in ris_pydtmc], 's-', label=\"PyDTMC check\")\n",
    "ax.set_xscale('log')\n",
    "ax.set_yscale('log')\n",
    "\n",
    "# Mostra solo griglia principale\n",
    "ax.grid(True, which='major', linestyle='-', linewidth=0.5)\n",
    "ax.grid(False, which='minor')\n",
    "\n",
    "# Forza i tick solo sulle decine\n",
    "ax.yaxis.set_major_locator(ticker.LogLocator(base=10.0, subs=(1.0,), numticks=100))\n",
    "ax.xaxis.set_major_locator(ticker.LogLocator(base=10.0, subs=(1.0,), numticks=100))\n",
    "\n",
    "ax.set_xlabel(\"Dimensione matrice $n$\", fontsize=12)\n",
    "ax.set_ylabel(\"Tempo medio (secondi)\", fontsize=12)\n",
    "ax.set_title(\"Confronto velocità verifica reversibilità su matrici P reversibili non banali\", fontsize=14)\n",
    "ax.legend(fontsize=13)\n",
    "\n",
    "\n",
    "plt.savefig(\"P_nostro_vs_pydctm.svg\", dpi=300, format=\"svg\", bbox_inches=\"tight\")\n",
    "plt.show()"
   ]
  },
  {
   "cell_type": "markdown",
   "id": "d24d6279",
   "metadata": {},
   "source": [
    "### Confronto tra matrici P e matrici Q ben condizionate per la uniformizzazione"
   ]
  },
  {
   "cell_type": "code",
   "execution_count": null,
   "id": "7f989e48",
   "metadata": {},
   "outputs": [],
   "source": [
    "# Testa su P reversibili\n",
    "ris_nostro = check.calcola_tempi(\"nostro\", C=100, n_punti=50, n_matrici=100)\n",
    "\n",
    "# Testa su Q reversibili \"facili\"\n",
    "ris_pydtmc = check.calcola_tempi(\"nostro\", C=100, n_punti=50, n_matrici=100, discrete=False, forzata=True)"
   ]
  },
  {
   "cell_type": "code",
   "execution_count": null,
   "id": "eee3b2e3",
   "metadata": {},
   "outputs": [],
   "source": [
    "# Grafico\n",
    "fig, ax = plt.subplots(figsize=(18,10))\n",
    "ax.plot([r[0] for r in ris_nostro], [r[1] for r in ris_nostro], 'o-', label=\"Nostro check su P\")\n",
    "ax.plot([r[0] for r in ris_pydtmc], [r[1] for r in ris_pydtmc], 's-', label=\"Nostro check su Q\")\n",
    "ax.set_xscale('log')\n",
    "ax.set_yscale('log')\n",
    "\n",
    "# Mostra solo griglia principale\n",
    "ax.grid(True, which='major', linestyle='-', linewidth=0.5)\n",
    "ax.grid(False, which='minor')\n",
    "\n",
    "# Forza i tick solo sulle decine\n",
    "ax.yaxis.set_major_locator(ticker.LogLocator(base=10.0, subs=(1.0,), numticks=100))\n",
    "ax.xaxis.set_major_locator(ticker.LogLocator(base=10.0, subs=(1.0,), numticks=100))\n",
    "\n",
    "ax.set_xlabel(\"Dimensione matrice $n$\", fontsize=12)\n",
    "ax.set_ylabel(\"Tempo medio (secondi)\", fontsize=12)\n",
    "ax.set_title(\"Confronto velocità verifica reversibilità su matrici P e Q (ben condizionate) reversibili non banali\", fontsize=14)\n",
    "ax.legend(fontsize=13)\n",
    "\n",
    "\n",
    "plt.savefig(\"P_Qbene.svg\", dpi=300, format=\"svg\", bbox_inches=\"tight\")\n",
    "plt.show()"
   ]
  },
  {
   "cell_type": "markdown",
   "id": "06c29b05",
   "metadata": {},
   "source": [
    "### Confronto tra Q ben condizionate e Q generate senza accortezza"
   ]
  },
  {
   "cell_type": "code",
   "execution_count": null,
   "id": "85908501",
   "metadata": {},
   "outputs": [],
   "source": [
    "# Testa su Q reversibili\n",
    "ris_nostro = check.calcola_tempi(\"nostro\", C=70, n_punti=50, n_matrici=100, discrete=False)\n",
    "\n",
    "# Testa su Q reversibili \"facili\"\n",
    "ris_pydtmc = check.calcola_tempi(\"nostro\", C=70, n_punti=50, n_matrici=100, discrete=False, forzata=True)"
   ]
  },
  {
   "cell_type": "code",
   "execution_count": null,
   "id": "00b10318",
   "metadata": {},
   "outputs": [],
   "source": [
    "# Grafico\n",
    "fig, ax = plt.subplots(figsize=(18,10))\n",
    "ax.plot([r[0] for r in ris_nostro], [r[1] for r in ris_nostro], 'o-', label=\"Nostro check su Q generiche\")\n",
    "ax.plot([r[0] for r in ris_pydtmc], [r[1] for r in ris_pydtmc], 's-', label=\"Nostro check su Q ben condizionate\")\n",
    "ax.set_xscale('log')\n",
    "ax.set_yscale('log')\n",
    "\n",
    "# Mostra solo griglia principale\n",
    "ax.grid(True, which='major', linestyle='-', linewidth=0.5)\n",
    "ax.grid(False, which='minor')\n",
    "\n",
    "# Forza i tick solo sulle decine\n",
    "ax.yaxis.set_major_locator(ticker.LogLocator(base=10.0, subs=(1.0,), numticks=100))\n",
    "ax.xaxis.set_major_locator(ticker.LogLocator(base=10.0, subs=(1.0,), numticks=100))\n",
    "\n",
    "ax.set_xlabel(\"Dimensione matrice $n$\", fontsize=12)\n",
    "ax.set_ylabel(\"Tempo medio (secondi)\", fontsize=12)\n",
    "ax.set_title(\"Confronto velocità verifica reversibilità su matrici Q ben condizionate e non\", fontsize=14)\n",
    "ax.legend(fontsize=13)\n",
    "\n",
    "\n",
    "plt.savefig(\"Qbene_Qnonbene.svg\", dpi=300, format=\"svg\", bbox_inches=\"tight\")\n",
    "plt.show()"
   ]
  }
 ],
 "metadata": {
  "kernelspec": {
   "display_name": "Python 3",
   "language": "python",
   "name": "python3"
  },
  "language_info": {
   "codemirror_mode": {
    "name": "ipython",
    "version": 3
   },
   "file_extension": ".py",
   "mimetype": "text/x-python",
   "name": "python",
   "nbconvert_exporter": "python",
   "pygments_lexer": "ipython3",
   "version": "3.9.6"
  }
 },
 "nbformat": 4,
 "nbformat_minor": 5
}
